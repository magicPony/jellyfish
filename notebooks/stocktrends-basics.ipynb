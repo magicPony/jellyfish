{
 "cells": [
  {
   "cell_type": "code",
   "execution_count": 35,
   "outputs": [
    {
     "name": "stdout",
     "output_type": "stream",
     "text": [
      "The autoreload extension is already loaded. To reload it, use:\n",
      "  %reload_ext autoreload\n"
     ]
    }
   ],
   "source": [
    "import pandas as pd\n",
    "%load_ext autoreload\n",
    "%autoreload 2\n",
    "\n",
    "from datetime import datetime, timedelta\n",
    "from jellyfish import utils, candles_loader\n",
    "\n",
    "client = utils.load_binance_client()\n",
    "end_dt = datetime(year=2022, month=2, day=3)\n",
    "start_dt = end_dt - timedelta(hours=400)\n",
    "pair = 'XRPUSDT'\n",
    "interval = '1h'"
   ],
   "metadata": {
    "collapsed": false,
    "pycharm": {
     "name": "#%%\n"
    }
   }
  },
  {
   "cell_type": "code",
   "execution_count": 38,
   "outputs": [
    {
     "data": {
      "text/plain": "                 date      open      high       low     close      volume  \\\n0 2021-06-16 03:14:00  40143.80  40154.34  39962.16  40112.68  765.915095   \n1 2021-06-16 03:29:00  40112.68  40134.00  39910.24  39969.96  629.985110   \n2 2021-06-16 03:44:00  39969.96  40073.02  39901.01  39986.72  379.859146   \n3 2021-06-16 03:59:00  39986.73  40047.88  39810.00  39880.03  395.869387   \n4 2021-06-16 04:14:00  39880.04  39908.02  39610.00  39812.11  825.394823   \n\n   quoteassetvolume  numoftrades  takerbuyassetvolume  takersellassetvolume  \n0      3.068029e+07      21575.0           358.015605          1.434166e+07  \n1      2.523135e+07      17029.0           322.043646          1.290334e+07  \n2      1.519061e+07      15321.0           195.821517          7.831518e+06  \n3      1.580764e+07      15801.0           150.842905          6.023086e+06  \n4      3.281305e+07      18529.0           355.186113          1.411950e+07  ",
      "text/html": "<div>\n<style scoped>\n    .dataframe tbody tr th:only-of-type {\n        vertical-align: middle;\n    }\n\n    .dataframe tbody tr th {\n        vertical-align: top;\n    }\n\n    .dataframe thead th {\n        text-align: right;\n    }\n</style>\n<table border=\"1\" class=\"dataframe\">\n  <thead>\n    <tr style=\"text-align: right;\">\n      <th></th>\n      <th>date</th>\n      <th>open</th>\n      <th>high</th>\n      <th>low</th>\n      <th>close</th>\n      <th>volume</th>\n      <th>quoteassetvolume</th>\n      <th>numoftrades</th>\n      <th>takerbuyassetvolume</th>\n      <th>takersellassetvolume</th>\n    </tr>\n  </thead>\n  <tbody>\n    <tr>\n      <th>0</th>\n      <td>2021-06-16 03:14:00</td>\n      <td>40143.80</td>\n      <td>40154.34</td>\n      <td>39962.16</td>\n      <td>40112.68</td>\n      <td>765.915095</td>\n      <td>3.068029e+07</td>\n      <td>21575.0</td>\n      <td>358.015605</td>\n      <td>1.434166e+07</td>\n    </tr>\n    <tr>\n      <th>1</th>\n      <td>2021-06-16 03:29:00</td>\n      <td>40112.68</td>\n      <td>40134.00</td>\n      <td>39910.24</td>\n      <td>39969.96</td>\n      <td>629.985110</td>\n      <td>2.523135e+07</td>\n      <td>17029.0</td>\n      <td>322.043646</td>\n      <td>1.290334e+07</td>\n    </tr>\n    <tr>\n      <th>2</th>\n      <td>2021-06-16 03:44:00</td>\n      <td>39969.96</td>\n      <td>40073.02</td>\n      <td>39901.01</td>\n      <td>39986.72</td>\n      <td>379.859146</td>\n      <td>1.519061e+07</td>\n      <td>15321.0</td>\n      <td>195.821517</td>\n      <td>7.831518e+06</td>\n    </tr>\n    <tr>\n      <th>3</th>\n      <td>2021-06-16 03:59:00</td>\n      <td>39986.73</td>\n      <td>40047.88</td>\n      <td>39810.00</td>\n      <td>39880.03</td>\n      <td>395.869387</td>\n      <td>1.580764e+07</td>\n      <td>15801.0</td>\n      <td>150.842905</td>\n      <td>6.023086e+06</td>\n    </tr>\n    <tr>\n      <th>4</th>\n      <td>2021-06-16 04:14:00</td>\n      <td>39880.04</td>\n      <td>39908.02</td>\n      <td>39610.00</td>\n      <td>39812.11</td>\n      <td>825.394823</td>\n      <td>3.281305e+07</td>\n      <td>18529.0</td>\n      <td>355.186113</td>\n      <td>1.411950e+07</td>\n    </tr>\n  </tbody>\n</table>\n</div>"
     },
     "execution_count": 38,
     "metadata": {},
     "output_type": "execute_result"
    }
   ],
   "source": [
    "from jellyfish import CANDLES_HISTORY_PATH\n",
    "import pandas as pd\n",
    "# df = candles_loader.load_candles_history(client, pair, start_dt, end_dt, interval).reset_index()\n",
    "df = pd.read_csv(next(CANDLES_HISTORY_PATH.iterdir()))\n",
    "df = candles_loader.read_candles_frame(next(CANDLES_HISTORY_PATH.iterdir())).reset_index()\n",
    "df.columns = [i.lower() for i in df.columns]\n",
    "# df.set_index('date', inplace=True, drop=False)\n",
    "df.head()"
   ],
   "metadata": {
    "collapsed": false,
    "pycharm": {
     "name": "#%%\n"
    }
   }
  },
  {
   "cell_type": "code",
   "execution_count": 39,
   "outputs": [
    {
     "name": "stderr",
     "output_type": "stream",
     "text": [
      "/home/tarasnovokhatskiy/jellyfish/jellyfish/utils.py:40: UserWarning: Some prices are larger than initial cash value. Note that fractional trading is not supported. If you want to trade Bitcoin, increase initial cash, or trade μBTC or satoshis instead (GH-134).\n",
      "  backtest = Backtest(ohlc, strategy=DummyStrategy, cash=10_000, commission=.002)\n",
      "/home/tarasnovokhatskiy/jellyfish/jellyfish/utils.py:40: UserWarning: Data index is not datetime. Assuming simple periods, but `pd.DateTimeIndex` is advised.\n",
      "  backtest = Backtest(ohlc, strategy=DummyStrategy, cash=10_000, commission=.002)\n"
     ]
    },
    {
     "data": {
      "text/plain": "                 Date     Open     High      Low    Close  Uptrend\n0 2021-06-16 03:14:00  40110.0  40112.0  40110.0  40112.0     True\n1 2021-06-16 03:29:00  40110.0  40110.0  40108.0  40108.0    False\n2 2021-06-16 03:29:00  40108.0  40108.0  40106.0  40106.0    False\n3 2021-06-16 03:29:00  40106.0  40106.0  40104.0  40104.0    False\n4 2021-06-16 03:29:00  40104.0  40104.0  40102.0  40102.0    False",
      "text/html": "<div>\n<style scoped>\n    .dataframe tbody tr th:only-of-type {\n        vertical-align: middle;\n    }\n\n    .dataframe tbody tr th {\n        vertical-align: top;\n    }\n\n    .dataframe thead th {\n        text-align: right;\n    }\n</style>\n<table border=\"1\" class=\"dataframe\">\n  <thead>\n    <tr style=\"text-align: right;\">\n      <th></th>\n      <th>Date</th>\n      <th>Open</th>\n      <th>High</th>\n      <th>Low</th>\n      <th>Close</th>\n      <th>Uptrend</th>\n    </tr>\n  </thead>\n  <tbody>\n    <tr>\n      <th>0</th>\n      <td>2021-06-16 03:14:00</td>\n      <td>40110.0</td>\n      <td>40112.0</td>\n      <td>40110.0</td>\n      <td>40112.0</td>\n      <td>True</td>\n    </tr>\n    <tr>\n      <th>1</th>\n      <td>2021-06-16 03:29:00</td>\n      <td>40110.0</td>\n      <td>40110.0</td>\n      <td>40108.0</td>\n      <td>40108.0</td>\n      <td>False</td>\n    </tr>\n    <tr>\n      <th>2</th>\n      <td>2021-06-16 03:29:00</td>\n      <td>40108.0</td>\n      <td>40108.0</td>\n      <td>40106.0</td>\n      <td>40106.0</td>\n      <td>False</td>\n    </tr>\n    <tr>\n      <th>3</th>\n      <td>2021-06-16 03:29:00</td>\n      <td>40106.0</td>\n      <td>40106.0</td>\n      <td>40104.0</td>\n      <td>40104.0</td>\n      <td>False</td>\n    </tr>\n    <tr>\n      <th>4</th>\n      <td>2021-06-16 03:29:00</td>\n      <td>40104.0</td>\n      <td>40104.0</td>\n      <td>40102.0</td>\n      <td>40102.0</td>\n      <td>False</td>\n    </tr>\n  </tbody>\n</table>\n</div>"
     },
     "execution_count": 39,
     "metadata": {},
     "output_type": "execute_result"
    }
   ],
   "source": [
    "from stocktrends import indicators\n",
    "renko = indicators.Renko(df)\n",
    "renko.brick_size = 2\n",
    "renko.chart_type = indicators.Renko.PERIOD_CLOSE\n",
    "data = renko.get_ohlc_data()\n",
    "\n",
    "data.columns = [i.capitalize() for i in data.columns]\n",
    "utils.plot_ohlc(data)\n",
    "\n",
    "data.head()"
   ],
   "metadata": {
    "collapsed": false,
    "pycharm": {
     "name": "#%%\n"
    }
   }
  },
  {
   "cell_type": "code",
   "execution_count": 37,
   "outputs": [],
   "source": [],
   "metadata": {
    "collapsed": false,
    "pycharm": {
     "name": "#%%\n"
    }
   }
  },
  {
   "cell_type": "code",
   "execution_count": null,
   "outputs": [],
   "source": [],
   "metadata": {
    "collapsed": false,
    "pycharm": {
     "name": "#%%\n"
    }
   }
  }
 ],
 "metadata": {
  "kernelspec": {
   "display_name": "Python 3",
   "language": "python",
   "name": "python3"
  },
  "language_info": {
   "codemirror_mode": {
    "name": "ipython",
    "version": 2
   },
   "file_extension": ".py",
   "mimetype": "text/x-python",
   "name": "python",
   "nbconvert_exporter": "python",
   "pygments_lexer": "ipython2",
   "version": "2.7.6"
  }
 },
 "nbformat": 4,
 "nbformat_minor": 0
}