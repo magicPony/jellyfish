{
 "cells": [
  {
   "cell_type": "code",
   "execution_count": 1,
   "outputs": [],
   "source": [
    "%load_ext autoreload\n",
    "%autoreload 2"
   ],
   "metadata": {
    "collapsed": false,
    "pycharm": {
     "name": "#%%\n"
    }
   }
  },
  {
   "cell_type": "code",
   "execution_count": 20,
   "outputs": [
    {
     "data": {
      "text/plain": "  0%|          | 0/1 [00:00<?, ?it/s]",
      "application/vnd.jupyter.widget-view+json": {
       "version_major": 2,
       "version_minor": 0,
       "model_id": "9a257b14e80f48c1946127acaf316ad8"
      }
     },
     "metadata": {},
     "output_type": "display_data"
    },
    {
     "name": "stderr",
     "output_type": "stream",
     "text": [
      "/home/tarasnovokhatskiy/jellyfish/.venv/lib/python3.8/site-packages/dateparser/date_parser.py:35: PytzUsageWarning: The localize method is no longer necessary, as this time zone supports the fold attribute (PEP 495). For more details on migrating to a PEP 495-compliant implementation, see https://pytz-deprecation-shim.readthedocs.io/en/latest/migration.html\n",
      "  date_obj = stz.localize(date_obj)\n"
     ]
    },
    {
     "ename": "InvalidOptionError",
     "evalue": "",
     "output_type": "error",
     "traceback": [
      "\u001B[0;31m---------------------------------------------------------------------------\u001B[0m",
      "\u001B[0;31mInvalidOptionError\u001B[0m                        Traceback (most recent call last)",
      "Input \u001B[0;32mIn [20]\u001B[0m, in \u001B[0;36m<cell line: 13>\u001B[0;34m()\u001B[0m\n\u001B[1;32m     11\u001B[0m change_thr \u001B[38;5;241m=\u001B[39m \u001B[38;5;241m0.015\u001B[39m\n\u001B[1;32m     12\u001B[0m indicator \u001B[38;5;241m=\u001B[39m Indicator(change_thr\u001B[38;5;241m=\u001B[39mchange_thr, depth\u001B[38;5;241m=\u001B[39m\u001B[38;5;241m5\u001B[39m)\n\u001B[0;32m---> 13\u001B[0m \u001B[43mindicator\u001B[49m\u001B[38;5;241;43m.\u001B[39;49m\u001B[43mfit\u001B[49m\u001B[43m(\u001B[49m\u001B[43mdf\u001B[49m\u001B[43m)\u001B[49m\n",
      "File \u001B[0;32m~/jellyfish/jellyfish/alpha/indicators_stack_encoder/indicator.py:44\u001B[0m, in \u001B[0;36mIndicator.fit\u001B[0;34m(self, df)\u001B[0m\n\u001B[1;32m     43\u001B[0m \u001B[38;5;28;01mdef\u001B[39;00m \u001B[38;5;21mfit\u001B[39m(\u001B[38;5;28mself\u001B[39m, df: pd\u001B[38;5;241m.\u001B[39mDataFrame):\n\u001B[0;32m---> 44\u001B[0m     df \u001B[38;5;241m=\u001B[39m add_indicators(df\u001B[38;5;241m.\u001B[39mcopy(), \u001B[38;5;28mself\u001B[39m\u001B[38;5;241m.\u001B[39mopen_col, \u001B[38;5;28mself\u001B[39m\u001B[38;5;241m.\u001B[39mhigh_col, \u001B[38;5;28mself\u001B[39m\u001B[38;5;241m.\u001B[39mlow_col, \u001B[38;5;28mself\u001B[39m\u001B[38;5;241m.\u001B[39mclose_col)\n\u001B[1;32m     45\u001B[0m     indicator_cols \u001B[38;5;241m=\u001B[39m [c \u001B[38;5;28;01mfor\u001B[39;00m c \u001B[38;5;129;01min\u001B[39;00m df\u001B[38;5;241m.\u001B[39mcolumns \u001B[38;5;28;01mif\u001B[39;00m c\u001B[38;5;241m.\u001B[39mstartswith(\u001B[38;5;124m'\u001B[39m\u001B[38;5;124mi_\u001B[39m\u001B[38;5;124m'\u001B[39m)]\n\u001B[1;32m     46\u001B[0m     dataset \u001B[38;5;241m=\u001B[39m IndicatorsDataset(df[indicator_cols]\u001B[38;5;241m.\u001B[39mto_numpy(),\n\u001B[1;32m     47\u001B[0m                                 (df\u001B[38;5;241m.\u001B[39mReturn\u001B[38;5;241m.\u001B[39mrolling(\u001B[38;5;241m3\u001B[39m)\u001B[38;5;241m.\u001B[39msum() \u001B[38;5;241m/\u001B[39m \u001B[38;5;28mself\u001B[39m\u001B[38;5;241m.\u001B[39mchange_thr)\u001B[38;5;241m.\u001B[39mastype(np\u001B[38;5;241m.\u001B[39mint32),\n\u001B[1;32m     48\u001B[0m                                 depth\u001B[38;5;241m=\u001B[39m\u001B[38;5;28mself\u001B[39m\u001B[38;5;241m.\u001B[39mdepth)\n",
      "File \u001B[0;32m~/jellyfish/jellyfish/alpha/indicators_stack_encoder/preprocessing.py:23\u001B[0m, in \u001B[0;36madd_indicators\u001B[0;34m(df, open_col, high_col, low_col, close_col)\u001B[0m\n\u001B[1;32m     20\u001B[0m df[\u001B[38;5;124mf\u001B[39m\u001B[38;5;124m'\u001B[39m\u001B[38;5;124mi_bop_\u001B[39m\u001B[38;5;132;01m{\u001B[39;00mperiod\u001B[38;5;132;01m}\u001B[39;00m\u001B[38;5;124m'\u001B[39m] \u001B[38;5;241m=\u001B[39m indicator\u001B[38;5;241m.\u001B[39mbop(df[open_col], df[high_col],\n\u001B[1;32m     21\u001B[0m                                       df[low_col], df[close_col])\n\u001B[1;32m     22\u001B[0m df[\u001B[38;5;124mf\u001B[39m\u001B[38;5;124m'\u001B[39m\u001B[38;5;124mi_dpo_\u001B[39m\u001B[38;5;132;01m{\u001B[39;00mperiod\u001B[38;5;132;01m}\u001B[39;00m\u001B[38;5;124m'\u001B[39m] \u001B[38;5;241m=\u001B[39m indicator\u001B[38;5;241m.\u001B[39mdpo(df[close_col], period)\n\u001B[0;32m---> 23\u001B[0m df[\u001B[38;5;124mf\u001B[39m\u001B[38;5;124m'\u001B[39m\u001B[38;5;124mi_mass_\u001B[39m\u001B[38;5;132;01m{\u001B[39;00mperiod\u001B[38;5;132;01m}\u001B[39;00m\u001B[38;5;124m'\u001B[39m] \u001B[38;5;241m=\u001B[39m \u001B[43mindicator\u001B[49m\u001B[38;5;241;43m.\u001B[39;49m\u001B[43mmass\u001B[49m\u001B[43m(\u001B[49m\u001B[43mdf\u001B[49m\u001B[43m[\u001B[49m\u001B[43mhigh_col\u001B[49m\u001B[43m]\u001B[49m\u001B[43m,\u001B[49m\u001B[43m \u001B[49m\u001B[43mdf\u001B[49m\u001B[43m[\u001B[49m\u001B[43mlow_col\u001B[49m\u001B[43m]\u001B[49m\u001B[43m,\u001B[49m\u001B[43m \u001B[49m\u001B[43mperiod\u001B[49m\u001B[43m)\u001B[49m\n\u001B[1;32m     25\u001B[0m aroon \u001B[38;5;241m=\u001B[39m indicator\u001B[38;5;241m.\u001B[39maroon(df[high_col], df[low_col], period)\n\u001B[1;32m     26\u001B[0m df[\u001B[38;5;124mf\u001B[39m\u001B[38;5;124m'\u001B[39m\u001B[38;5;124mi_aroon_low_\u001B[39m\u001B[38;5;132;01m{\u001B[39;00mperiod\u001B[38;5;132;01m}\u001B[39;00m\u001B[38;5;124m'\u001B[39m] \u001B[38;5;241m=\u001B[39m aroon[\u001B[38;5;241m0\u001B[39m]\n",
      "File \u001B[0;32m~/jellyfish/jellyfish/indicator.py:161\u001B[0m, in \u001B[0;36mmass\u001B[0;34m(high, low, period)\u001B[0m\n\u001B[1;32m    153\u001B[0m \u001B[38;5;28;01mdef\u001B[39;00m \u001B[38;5;21mmass\u001B[39m(high, low, period\u001B[38;5;241m=\u001B[39m\u001B[38;5;241m25\u001B[39m):\n\u001B[1;32m    154\u001B[0m     \u001B[38;5;124;03m\"\"\"\u001B[39;00m\n\u001B[1;32m    155\u001B[0m \u001B[38;5;124;03m    Compute Mass Index\u001B[39;00m\n\u001B[1;32m    156\u001B[0m \u001B[38;5;124;03m    Args:\u001B[39;00m\n\u001B[0;32m   (...)\u001B[0m\n\u001B[1;32m    159\u001B[0m \u001B[38;5;124;03m        period: window size\u001B[39;00m\n\u001B[1;32m    160\u001B[0m \u001B[38;5;124;03m    \"\"\"\u001B[39;00m\n\u001B[0;32m--> 161\u001B[0m     \u001B[38;5;28;01mreturn\u001B[39;00m _add_nans_prefix(\u001B[43mti\u001B[49m\u001B[38;5;241;43m.\u001B[39;49m\u001B[43mmass\u001B[49m\u001B[43m(\u001B[49m\u001B[43mnp\u001B[49m\u001B[38;5;241;43m.\u001B[39;49m\u001B[43marray\u001B[49m\u001B[43m(\u001B[49m\u001B[43mhigh\u001B[49m\u001B[43m)\u001B[49m\u001B[43m,\u001B[49m\u001B[43m \u001B[49m\u001B[43mnp\u001B[49m\u001B[38;5;241;43m.\u001B[39;49m\u001B[43marray\u001B[49m\u001B[43m(\u001B[49m\u001B[43mlow\u001B[49m\u001B[43m)\u001B[49m\u001B[43m,\u001B[49m\u001B[43m \u001B[49m\u001B[43mperiod\u001B[49m\u001B[43m)\u001B[49m, \u001B[38;5;28mlen\u001B[39m(high))\n",
      "File \u001B[0;32m~/jellyfish/.venv/lib/python3.8/site-packages/tulipy/__init__.py:737\u001B[0m, in \u001B[0;36mmass\u001B[0;34m(high, low, period)\u001B[0m\n\u001B[1;32m    732\u001B[0m \u001B[38;5;28;01mdef\u001B[39;00m \u001B[38;5;21mmass\u001B[39m(high, low, period):\n\u001B[1;32m    733\u001B[0m     \u001B[38;5;124;03m\"\"\"\u001B[39;00m\n\u001B[1;32m    734\u001B[0m \u001B[38;5;124;03m    Mass Index\u001B[39;00m\n\u001B[1;32m    735\u001B[0m \u001B[38;5;124;03m    \"\"\"\u001B[39;00m\n\u001B[0;32m--> 737\u001B[0m     \u001B[38;5;28;01mreturn\u001B[39;00m \u001B[43mlib\u001B[49m\u001B[38;5;241;43m.\u001B[39;49m\u001B[43mmass\u001B[49m\u001B[43m(\u001B[49m\u001B[43m[\u001B[49m\u001B[43mhigh\u001B[49m\u001B[43m,\u001B[49m\u001B[43m \u001B[49m\u001B[43mlow\u001B[49m\u001B[43m]\u001B[49m\u001B[43m,\u001B[49m\u001B[43m \u001B[49m\u001B[43m[\u001B[49m\u001B[43mperiod\u001B[49m\u001B[43m]\u001B[49m\u001B[43m)\u001B[49m\n",
      "File \u001B[0;32mtulipy/lib/__init__.pyx:105\u001B[0m, in \u001B[0;36mtulipy.lib._Indicator.__call__\u001B[0;34m()\u001B[0m\n",
      "\u001B[0;31mInvalidOptionError\u001B[0m: "
     ]
    }
   ],
   "source": [
    "from datetime import datetime, timedelta\n",
    "from jellyfish.core import Client\n",
    "from jellyfish.candles_loader import load_candles_history\n",
    "from jellyfish.alpha.indicators_stack_encoder import Indicator\n",
    "\n",
    "\n",
    "end_dt = datetime(year=2022, month=4, day=3)\n",
    "start_dt = end_dt - timedelta(days=10)\n",
    "df = load_candles_history(Client(), 'BTCUSDT', start_dt, end_dt, '1d').reset_index()\n",
    "\n",
    "change_thr = 0.015\n",
    "indicator = Indicator(change_thr=change_thr, depth=5)\n",
    "indicator.fit(df)\n",
    "# df['signal'] = indicator.transform(df.reset_index())"
   ],
   "metadata": {
    "collapsed": false,
    "pycharm": {
     "name": "#%%\n"
    }
   }
  },
  {
   "cell_type": "code",
   "execution_count": 19,
   "outputs": [],
   "source": [],
   "metadata": {
    "collapsed": false,
    "pycharm": {
     "name": "#%%\n"
    }
   }
  },
  {
   "cell_type": "code",
   "execution_count": 3,
   "outputs": [],
   "source": [],
   "metadata": {
    "collapsed": false,
    "pycharm": {
     "name": "#%%\n"
    }
   }
  },
  {
   "cell_type": "code",
   "execution_count": 3,
   "outputs": [],
   "source": [],
   "metadata": {
    "collapsed": false,
    "pycharm": {
     "name": "#%%\n"
    }
   }
  },
  {
   "cell_type": "code",
   "execution_count": 3,
   "outputs": [],
   "source": [],
   "metadata": {
    "collapsed": false,
    "pycharm": {
     "name": "#%%\n"
    }
   }
  },
  {
   "cell_type": "code",
   "execution_count": null,
   "outputs": [],
   "source": [],
   "metadata": {
    "collapsed": false,
    "pycharm": {
     "name": "#%%\n"
    }
   }
  }
 ],
 "metadata": {
  "kernelspec": {
   "display_name": "Python 3",
   "language": "python",
   "name": "python3"
  },
  "language_info": {
   "codemirror_mode": {
    "name": "ipython",
    "version": 2
   },
   "file_extension": ".py",
   "mimetype": "text/x-python",
   "name": "python",
   "nbconvert_exporter": "python",
   "pygments_lexer": "ipython2",
   "version": "2.7.6"
  }
 },
 "nbformat": 4,
 "nbformat_minor": 0
}