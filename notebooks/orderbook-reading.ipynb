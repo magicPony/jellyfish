{
 "cells": [
  {
   "cell_type": "code",
   "execution_count": 1,
   "outputs": [],
   "source": [
    "%load_ext autoreload\n",
    "%autoreload 2"
   ],
   "metadata": {
    "collapsed": false,
    "pycharm": {
     "name": "#%%\n"
    }
   }
  },
  {
   "cell_type": "code",
   "execution_count": 77,
   "outputs": [
    {
     "data": {
      "text/plain": "  0%|          | 0/1 [00:00<?, ?it/s]",
      "application/vnd.jupyter.widget-view+json": {
       "version_major": 2,
       "version_minor": 0,
       "model_id": "518c90eebc074c599aafd454d80643c1"
      }
     },
     "metadata": {},
     "output_type": "display_data"
    },
    {
     "data": {
      "text/plain": "  0%|          | 0/481 [00:00<?, ?it/s]",
      "application/vnd.jupyter.widget-view+json": {
       "version_major": 2,
       "version_minor": 0,
       "model_id": "436813f22af549c590c4417106f157f2"
      }
     },
     "metadata": {},
     "output_type": "display_data"
    },
    {
     "data": {
      "text/plain": "                        Close      High       Low  NumOfTrades      Open  \\\nDate                                                                       \n2021-06-16 03:00:00  40079.10  40154.34  40040.00       2001.0  40143.80   \n2021-06-16 03:01:00  40043.96  40120.29  40011.00       2307.0  40079.09   \n2021-06-16 03:02:00  39962.36  40063.66  39962.16       2522.0  40051.92   \n2021-06-16 03:03:00  39985.15  40033.69  39962.37       1640.0  39962.37   \n2021-06-16 03:04:00  40049.87  40073.86  39975.64       1357.0  39985.15   \n\n                     QuoteAssetVolume  TakerBuyAssetVolume  \\\nDate                                                         \n2021-06-16 03:00:00      4.008578e+06            40.511381   \n2021-06-16 03:01:00      3.782308e+06            41.998226   \n2021-06-16 03:02:00      5.325573e+06            39.046176   \n2021-06-16 03:03:00      3.334336e+06            45.032377   \n2021-06-16 03:04:00      2.230396e+06            31.676931   \n\n                     TakerSellAssetVolume      Volume  \\\nDate                                                    \n2021-06-16 03:00:00          1.623425e+06  100.018236   \n2021-06-16 03:01:00          1.681644e+06   94.436983   \n2021-06-16 03:02:00          1.562229e+06  133.090476   \n2021-06-16 03:03:00          1.801453e+06   83.347290   \n2021-06-16 03:04:00          1.267995e+06   55.730340   \n\n                                                             Orderbook  \nDate                                                                    \n2021-06-16 03:00:00  [[40143.79, 1.33578], [40141.27, 0.007922], [4...  \n2021-06-16 03:01:00  [[40080.59, 0.000498], [40075.85, 0.010718], [...  \n2021-06-16 03:02:00  [[40050.07, 0.165843], [40048.57, 0.014247], [...  \n2021-06-16 03:03:00  [[39970.71, 0.0005], [39968.96, 0.010309], [39...  \n2021-06-16 03:04:00  [[39982.86, 0.33], [39981.57, 0.84], [39981.51...  ",
      "text/html": "<div>\n<style scoped>\n    .dataframe tbody tr th:only-of-type {\n        vertical-align: middle;\n    }\n\n    .dataframe tbody tr th {\n        vertical-align: top;\n    }\n\n    .dataframe thead th {\n        text-align: right;\n    }\n</style>\n<table border=\"1\" class=\"dataframe\">\n  <thead>\n    <tr style=\"text-align: right;\">\n      <th></th>\n      <th>Close</th>\n      <th>High</th>\n      <th>Low</th>\n      <th>NumOfTrades</th>\n      <th>Open</th>\n      <th>QuoteAssetVolume</th>\n      <th>TakerBuyAssetVolume</th>\n      <th>TakerSellAssetVolume</th>\n      <th>Volume</th>\n      <th>Orderbook</th>\n    </tr>\n    <tr>\n      <th>Date</th>\n      <th></th>\n      <th></th>\n      <th></th>\n      <th></th>\n      <th></th>\n      <th></th>\n      <th></th>\n      <th></th>\n      <th></th>\n      <th></th>\n    </tr>\n  </thead>\n  <tbody>\n    <tr>\n      <th>2021-06-16 03:00:00</th>\n      <td>40079.10</td>\n      <td>40154.34</td>\n      <td>40040.00</td>\n      <td>2001.0</td>\n      <td>40143.80</td>\n      <td>4.008578e+06</td>\n      <td>40.511381</td>\n      <td>1.623425e+06</td>\n      <td>100.018236</td>\n      <td>[[40143.79, 1.33578], [40141.27, 0.007922], [4...</td>\n    </tr>\n    <tr>\n      <th>2021-06-16 03:01:00</th>\n      <td>40043.96</td>\n      <td>40120.29</td>\n      <td>40011.00</td>\n      <td>2307.0</td>\n      <td>40079.09</td>\n      <td>3.782308e+06</td>\n      <td>41.998226</td>\n      <td>1.681644e+06</td>\n      <td>94.436983</td>\n      <td>[[40080.59, 0.000498], [40075.85, 0.010718], [...</td>\n    </tr>\n    <tr>\n      <th>2021-06-16 03:02:00</th>\n      <td>39962.36</td>\n      <td>40063.66</td>\n      <td>39962.16</td>\n      <td>2522.0</td>\n      <td>40051.92</td>\n      <td>5.325573e+06</td>\n      <td>39.046176</td>\n      <td>1.562229e+06</td>\n      <td>133.090476</td>\n      <td>[[40050.07, 0.165843], [40048.57, 0.014247], [...</td>\n    </tr>\n    <tr>\n      <th>2021-06-16 03:03:00</th>\n      <td>39985.15</td>\n      <td>40033.69</td>\n      <td>39962.37</td>\n      <td>1640.0</td>\n      <td>39962.37</td>\n      <td>3.334336e+06</td>\n      <td>45.032377</td>\n      <td>1.801453e+06</td>\n      <td>83.347290</td>\n      <td>[[39970.71, 0.0005], [39968.96, 0.010309], [39...</td>\n    </tr>\n    <tr>\n      <th>2021-06-16 03:04:00</th>\n      <td>40049.87</td>\n      <td>40073.86</td>\n      <td>39975.64</td>\n      <td>1357.0</td>\n      <td>39985.15</td>\n      <td>2.230396e+06</td>\n      <td>31.676931</td>\n      <td>1.267995e+06</td>\n      <td>55.730340</td>\n      <td>[[39982.86, 0.33], [39981.57, 0.84], [39981.51...</td>\n    </tr>\n  </tbody>\n</table>\n</div>"
     },
     "execution_count": 77,
     "metadata": {},
     "output_type": "execute_result"
    }
   ],
   "source": [
    "from datetime import datetime, timedelta\n",
    "from jellyfish.core import Client\n",
    "from jellyfish.history_loader import load_candles_history\n",
    "\n",
    "pair = 'btcusdt'\n",
    "start_dt = datetime(year=2021, month=6, day=16)\n",
    "end_dt = start_dt + timedelta(hours=8)\n",
    "\n",
    "candles = load_candles_history(Client(), pair, start_dt, end_dt, interval='1m', read_orderbook=True)\n",
    "candles.head()"
   ],
   "metadata": {
    "collapsed": false,
    "pycharm": {
     "name": "#%%\n"
    }
   }
  },
  {
   "cell_type": "code",
   "execution_count": 78,
   "outputs": [
    {
     "data": {
      "text/plain": "0.0"
     },
     "execution_count": 78,
     "metadata": {},
     "output_type": "execute_result"
    }
   ],
   "source": [
    "candles.Orderbook.isna().mean()"
   ],
   "metadata": {
    "collapsed": false,
    "pycharm": {
     "name": "#%%\n"
    }
   }
  },
  {
   "cell_type": "code",
   "execution_count": 79,
   "outputs": [
    {
     "data": {
      "text/plain": "(10000, 2)"
     },
     "execution_count": 79,
     "metadata": {},
     "output_type": "execute_result"
    }
   ],
   "source": [
    "import matplotlib.pyplot as plt\n",
    "\n",
    "orderbook = candles.Orderbook[0]\n",
    "orderbook.shape"
   ],
   "metadata": {
    "collapsed": false,
    "pycharm": {
     "name": "#%%\n"
    }
   }
  },
  {
   "cell_type": "code",
   "execution_count": 83,
   "outputs": [
    {
     "data": {
      "text/plain": "[<matplotlib.lines.Line2D at 0x7f11f1851670>]"
     },
     "execution_count": 83,
     "metadata": {},
     "output_type": "execute_result"
    },
    {
     "data": {
      "text/plain": "<Figure size 432x288 with 1 Axes>",
      "image/png": "[encoded data removed]"
     },
     "metadata": {
      "needs_background": "light"
     },
     "output_type": "display_data"
    }
   ],
   "source": [
    "# plt.xticks([])\n",
    "# plt.yticks([])\n",
    "plt.plot(orderbook[:, 0], orderbook[:, 1])\n",
    "# plt.plot(orderbook[:, 0])\n",
    "# plt.plot(orderbook[:, 1])"
   ],
   "metadata": {
    "collapsed": false,
    "pycharm": {
     "name": "#%%\n"
    }
   }
  },
  {
   "cell_type": "code",
   "execution_count": 83,
   "outputs": [],
   "source": [],
   "metadata": {
    "collapsed": false,
    "pycharm": {
     "name": "#%%\n"
    }
   }
  },
  {
   "cell_type": "code",
   "execution_count": null,
   "outputs": [],
   "source": [],
   "metadata": {
    "collapsed": false,
    "pycharm": {
     "name": "#%%\n"
    }
   }
  }
 ],
 "metadata": {
  "kernelspec": {
   "display_name": "Python 3",
   "language": "python",
   "name": "python3"
  },
  "language_info": {
   "codemirror_mode": {
    "name": "ipython",
    "version": 2
   },
   "file_extension": ".py",
   "mimetype": "text/x-python",
   "name": "python",
   "nbconvert_exporter": "python",
   "pygments_lexer": "ipython2",
   "version": "2.7.6"
  }
 },
 "nbformat": 4,
 "nbformat_minor": 0
}