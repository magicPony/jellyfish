{
 "cells": [
  {
   "cell_type": "code",
   "execution_count": 98,
   "outputs": [
    {
     "name": "stdout",
     "output_type": "stream",
     "text": [
      "The autoreload extension is already loaded. To reload it, use:\n",
      "  %reload_ext autoreload\n"
     ]
    }
   ],
   "source": [
    "%load_ext autoreload\n",
    "%autoreload 2"
   ],
   "metadata": {
    "collapsed": false,
    "pycharm": {
     "name": "#%%\n"
    }
   }
  },
  {
   "cell_type": "code",
   "execution_count": 71,
   "outputs": [
    {
     "data": {
      "text/plain": "  0%|          | 0/10 [00:00<?, ?it/s]",
      "application/vnd.jupyter.widget-view+json": {
       "version_major": 2,
       "version_minor": 0,
       "model_id": "b61fb9bd33ed470ea874acab64367f3e"
      }
     },
     "metadata": {},
     "output_type": "display_data"
    }
   ],
   "source": [
    "from jellyfish.core import Client\n",
    "from jellyfish.history_loader import load_candles_history\n",
    "from jellyfish import utils\n",
    "from datetime import datetime, timedelta\n",
    "\n",
    "utils.disable_warnings()\n",
    "\n",
    "pair = 'btcusdt'\n",
    "mid_dt = datetime(year=2021, month=4, day=25)\n",
    "size = 5000 * 2\n",
    "\n",
    "frame = load_candles_history(Client(), pair, end_dt=mid_dt, interval='1m', candles_num=size)"
   ],
   "metadata": {
    "collapsed": false,
    "pycharm": {
     "name": "#%%\n"
    }
   }
  },
  {
   "cell_type": "code",
   "execution_count": 78,
   "outputs": [
    {
     "data": {
      "text/plain": "  0%|          | 0/9760 [00:00<?, ?it/s]",
      "application/vnd.jupyter.widget-view+json": {
       "version_major": 2,
       "version_minor": 0,
       "model_id": "5e50f60b37d046eb8c5ed3862b105856"
      }
     },
     "metadata": {},
     "output_type": "display_data"
    }
   ],
   "source": [
    "from jellyfish import indicator\n",
    "import numpy as np\n",
    "import pandas as pd\n",
    "\n",
    "def preprocess(frame: pd.DataFrame):\n",
    "    returns = frame.Close / frame.Open\n",
    "    hurst = indicator.hurst(returns, kind=indicator.HURST_CHANGE, simplified=False)\n",
    "\n",
    "    th = hurst[100:].mean()\n",
    "    th_eps = hurst[100:].std() * 1e-3\n",
    "    th_eps = hurst[100:].std() * 3.5e-2\n",
    "\n",
    "    frame['Persistent'] = (hurst > th + th_eps).astype(np.int32)\n",
    "    frame['Reversal'] = (hurst < th - th_eps).astype(np.int32)\n",
    "    frame['RandomWalk'] = (np.abs(hurst - th) < th_eps).astype(np.int32)\n",
    "    frame['i_Hurst'] = hurst\n",
    "    return frame\n",
    "\n",
    "frame = preprocess(frame)"
   ],
   "metadata": {
    "collapsed": false,
    "pycharm": {
     "name": "#%%\n"
    }
   }
  },
  {
   "cell_type": "code",
   "execution_count": 79,
   "outputs": [
    {
     "data": {
      "text/plain": "  0%|          | 0/9859 [00:00<?, ?it/s]",
      "application/vnd.jupyter.widget-view+json": {
       "version_major": 2,
       "version_minor": 0,
       "model_id": "5bb27d38f5094f56affd576b5b9b860d"
      }
     },
     "metadata": {},
     "output_type": "display_data"
    }
   ],
   "source": [
    "from jellyfish.transform.sampling import _generic_sampling, DEFAULT_SAMPLING_AGG\n",
    "from jellyfish.core import SmaCross, Backtest\n",
    "\n",
    "condition = lambda ohlc: ohlc.Persistent.max() + ohlc.Reversal.max() > 1\n",
    "frame1 = _generic_sampling(frame.reset_index(), condition, DEFAULT_SAMPLING_AGG).set_index('Date')"
   ],
   "metadata": {
    "collapsed": false,
    "pycharm": {
     "name": "#%%\n"
    }
   }
  },
  {
   "cell_type": "code",
   "execution_count": 104,
   "outputs": [
    {
     "data": {
      "text/plain": "Backtest.optimize:   0%|          | 0/1 [00:00<?, ?it/s]",
      "application/vnd.jupyter.widget-view+json": {
       "version_major": 2,
       "version_minor": 0,
       "model_id": "bd5121df55d449a281d32c54b29a57ff"
      }
     },
     "metadata": {},
     "output_type": "display_data"
    },
    {
     "data": {
      "text/plain": "Start                     2021-04-18 06:05:00\nEnd                       2021-04-25 03:00:00\nDuration                      6 days 20:55:00\nExposure Time [%]                   24.076809\nEquity Final [$]                950711.664104\nEquity Peak [$]                 1008792.67006\nReturn [%]                          -4.928834\nBuy & Hold Return [%]              -14.528594\nReturn (Ann.) [%]                  -86.665048\nVolatility (Ann.) [%]                4.149941\nSharpe Ratio                        -7.085944\nCalmar Ratio                       -37.054617\nMax. Drawdown [%]                   -7.070477\nAvg. Drawdown [%]                   -3.035111\nMax. Drawdown Duration        4 days 01:50:00\nAvg. Drawdown Duration        2 days 02:33:00\n# Trades                                   15\nWin Rate [%]                             40.0\nBest Trade [%]                       0.923247\nWorst Trade [%]                     -3.619569\nAvg. Trade [%]                      -0.349134\nMax. Trade Duration           0 days 06:07:00\nAvg. Trade Duration           0 days 02:28:00\nProfit Factor                        0.297893\nExpectancy [%]                      -0.343823\nSQN                                 -1.284893\n_strategy                 MyStrategy(n1=10...\n_equity_curve                             ...\n_trades                       Size  EntryB...\nSortino Ratio                       -3.336443\ndtype: object"
     },
     "execution_count": 104,
     "metadata": {},
     "output_type": "execute_result"
    }
   ],
   "source": [
    "class MyStrategy(SmaCross):\n",
    "    rsi_period = 5\n",
    "\n",
    "    def init(self):\n",
    "        self.rsi = self.I(indicator.rsi, self.data.Close, self.rsi_period)\n",
    "        super(MyStrategy, self).init()\n",
    "\n",
    "    def next(self):\n",
    "        if self.rsi < 50:\n",
    "            self.position.close()\n",
    "        else:\n",
    "            super(MyStrategy, self).next()\n",
    "\n",
    "bt = Backtest(frame1, MyStrategy, trade_on_close=True)\n",
    "stats = bt.optimize(\n",
    "    n1=10,\n",
    "    n2=20,\n",
    "    rsi_period=10\n",
    ")\n",
    "bt.plot(open_browser=True)\n",
    "stats"
   ],
   "metadata": {
    "collapsed": false,
    "pycharm": {
     "name": "#%%\n"
    }
   }
  },
  {
   "cell_type": "code",
   "execution_count": 113,
   "outputs": [
    {
     "data": {
      "text/plain": "Backtest.optimize:   0%|          | 0/1 [00:00<?, ?it/s]",
      "application/vnd.jupyter.widget-view+json": {
       "version_major": 2,
       "version_minor": 0,
       "model_id": "9a8789542e814e6883828041c7b61f88"
      }
     },
     "metadata": {},
     "output_type": "display_data"
    },
    {
     "data": {
      "text/plain": "Start                     2021-04-18 06:05:00\nEnd                       2021-04-25 03:00:00\nDuration                      6 days 20:55:00\nExposure Time [%]                   99.704579\nEquity Final [$]               1112631.549824\nEquity Peak [$]                1124514.618908\nReturn [%]                          11.263155\nBuy & Hold Return [%]              -14.528594\nReturn (Ann.) [%]                  480.496708\nVolatility (Ann.) [%]              532.920796\nSharpe Ratio                         6.580531\nCalmar Ratio                          59.5746\nMax. Drawdown [%]                    -10.2504\nAvg. Drawdown [%]                   -1.670771\nMax. Drawdown Duration        2 days 23:57:00\nAvg. Drawdown Duration        0 days 08:28:00\n# Trades                                   32\nWin Rate [%]                           46.875\nBest Trade [%]                       7.376742\nWorst Trade [%]                     -2.806667\nAvg. Trade [%]                        0.28691\nMax. Trade Duration           0 days 19:34:00\nAvg. Trade Duration           0 days 05:05:00\nProfit Factor                        1.578672\nExpectancy [%]                       0.307042\nSQN                                  0.800129\n_strategy                 RsiStrategy(rsi_...\n_equity_curve                             ...\n_trades                       Size  EntryB...\nSortino Ratio                        9.422302\ndtype: object"
     },
     "execution_count": 113,
     "metadata": {},
     "output_type": "execute_result"
    }
   ],
   "source": [
    "from jellyfish.core import Strategy\n",
    "\n",
    "\n",
    "class RsiStrategy(Strategy):\n",
    "    rsi_period = 5\n",
    "    th = 50\n",
    "    th_eps = 5\n",
    "\n",
    "    def init(self):\n",
    "        self.rsi = self.I(indicator.rsi, self.data.Close, self.rsi_period)\n",
    "\n",
    "    def next(self):\n",
    "        if self.rsi < self.th - self.th_eps:\n",
    "            if not self.position.is_short:\n",
    "                self.position.close()\n",
    "                self.sell()\n",
    "\n",
    "        elif self.rsi > self.th + self.th_eps:\n",
    "            if not self.position.is_long:\n",
    "                self.position.close()\n",
    "                self.buy()\n",
    "\n",
    "bt = Backtest(frame1, RsiStrategy, trade_on_close=True)\n",
    "stats = bt.optimize(\n",
    "    rsi_period=10\n",
    ")\n",
    "bt.plot(open_browser=True)\n",
    "stats"
   ],
   "metadata": {
    "collapsed": false,
    "pycharm": {
     "name": "#%%\n"
    }
   }
  },
  {
   "cell_type": "code",
   "execution_count": 43,
   "outputs": [],
   "source": [],
   "metadata": {
    "collapsed": false,
    "pycharm": {
     "name": "#%%\n"
    }
   }
  },
  {
   "cell_type": "code",
   "execution_count": 14,
   "outputs": [],
   "source": [],
   "metadata": {
    "collapsed": false,
    "pycharm": {
     "name": "#%%\n"
    }
   }
  }
 ],
 "metadata": {
  "kernelspec": {
   "display_name": "Python 3",
   "language": "python",
   "name": "python3"
  },
  "language_info": {
   "codemirror_mode": {
    "name": "ipython",
    "version": 2
   },
   "file_extension": ".py",
   "mimetype": "text/x-python",
   "name": "python",
   "nbconvert_exporter": "python",
   "pygments_lexer": "ipython2",
   "version": "2.7.6"
  }
 },
 "nbformat": 4,
 "nbformat_minor": 0
}