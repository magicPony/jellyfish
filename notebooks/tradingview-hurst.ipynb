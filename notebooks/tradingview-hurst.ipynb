{
 "cells": [
  {
   "cell_type": "code",
   "execution_count": 98,
   "outputs": [
    {
     "name": "stdout",
     "output_type": "stream",
     "text": [
      "The autoreload extension is already loaded. To reload it, use:\n",
      "  %reload_ext autoreload\n"
     ]
    }
   ],
   "source": [
    "%load_ext autoreload\n",
    "%autoreload 2"
   ],
   "metadata": {
    "collapsed": false,
    "pycharm": {
     "name": "#%%\n"
    }
   }
  },
  {
   "cell_type": "code",
   "execution_count": 518,
   "outputs": [
    {
     "data": {
      "text/plain": "  0%|          | 0/20 [00:00<?, ?it/s]",
      "application/vnd.jupyter.widget-view+json": {
       "version_major": 2,
       "version_minor": 0,
       "model_id": "28928e6a62c24acab98c978533a85ddd"
      }
     },
     "metadata": {},
     "output_type": "display_data"
    }
   ],
   "source": [
    "from jellyfish.core import Client\n",
    "from jellyfish.history_loader import load_candles_history\n",
    "from jellyfish import utils\n",
    "from datetime import datetime, timedelta\n",
    "\n",
    "utils.disable_warnings()\n",
    "\n",
    "pair = 'btcusdt'\n",
    "mid_dt = datetime(year=2021, month=11, day=25)\n",
    "size = 5000 * 4\n",
    "\n",
    "frame = load_candles_history(Client(), pair, end_dt=mid_dt, interval='1m', candles_num=size)"
   ],
   "metadata": {
    "collapsed": false,
    "pycharm": {
     "name": "#%%\n"
    }
   }
  },
  {
   "cell_type": "code",
   "execution_count": 538,
   "outputs": [
    {
     "data": {
      "text/plain": "  0%|          | 0/19921 [00:00<?, ?it/s]",
      "application/vnd.jupyter.widget-view+json": {
       "version_major": 2,
       "version_minor": 0,
       "model_id": "99229115f5694572852f68da70aa2b37"
      }
     },
     "metadata": {},
     "output_type": "display_data"
    }
   ],
   "source": [
    "from jellyfish import indicator\n",
    "import numpy as np\n",
    "import pandas as pd\n",
    "\n",
    "def preprocess(frame: pd.DataFrame):\n",
    "    returns = frame.Close / frame.Open\n",
    "    hurst = indicator.hurst(returns, kind=indicator.HURST_CHANGE, simplified=False)\n",
    "\n",
    "    th = hurst[100:].mean()\n",
    "    th_eps = hurst[100:].std() * 1e-3\n",
    "    # th_eps = hurst[100:].std()\n",
    "\n",
    "    frame['Persistent'] = (hurst > th + th_eps).astype(np.int32)\n",
    "    frame['Reversal'] = (hurst < th - th_eps).astype(np.int32)\n",
    "    frame['RandomWalk'] = (np.abs(hurst - th) < th_eps).astype(np.int32)\n",
    "    frame['i_Hurst'] = hurst\n",
    "    return frame\n",
    "\n",
    "frame = preprocess(frame)"
   ],
   "metadata": {
    "collapsed": false,
    "pycharm": {
     "name": "#%%\n"
    }
   }
  },
  {
   "cell_type": "code",
   "execution_count": 539,
   "outputs": [
    {
     "data": {
      "text/plain": "  0%|          | 0/20020 [00:00<?, ?it/s]",
      "application/vnd.jupyter.widget-view+json": {
       "version_major": 2,
       "version_minor": 0,
       "model_id": "3436e75d20044350b8b34191d8d52d97"
      }
     },
     "metadata": {},
     "output_type": "display_data"
    }
   ],
   "source": [
    "from jellyfish.transform.sampling import _generic_sampling, DEFAULT_SAMPLING_AGG\n",
    "from jellyfish.core import SmaCross, Backtest\n",
    "\n",
    "condition = lambda ohlc: ohlc.Persistent.max() + ohlc.Reversal.max() > 1\n",
    "frame1 = _generic_sampling(frame.reset_index(), condition, DEFAULT_SAMPLING_AGG).set_index('Date')"
   ],
   "metadata": {
    "collapsed": false,
    "pycharm": {
     "name": "#%%\n"
    }
   }
  },
  {
   "cell_type": "code",
   "execution_count": 543,
   "outputs": [
    {
     "data": {
      "text/plain": "Start                     2021-11-11 07:14:00\nEnd                       2021-11-25 02:00:00\nDuration                     13 days 18:46:00\nExposure Time [%]                   99.844237\nEquity Final [$]                768554.153624\nEquity Peak [$]                     1000000.0\nReturn [%]                         -23.144585\nBuy & Hold Return [%]              -11.687623\nReturn (Ann.) [%]                  -99.541287\nVolatility (Ann.) [%]                0.319934\nSharpe Ratio                       -11.409967\nCalmar Ratio                       -29.375764\nMax. Drawdown [%]                  -23.144585\nAvg. Drawdown [%]                  -23.144585\nMax. Drawdown Duration       13 days 18:34:00\nAvg. Drawdown Duration       13 days 18:34:00\n# Trades                                  307\nWin Rate [%]                        29.967427\nBest Trade [%]                       2.878555\nWorst Trade [%]                     -3.442241\nAvg. Trade [%]                      -0.090719\nMax. Trade Duration           0 days 11:11:00\nAvg. Trade Duration           0 days 01:05:00\nProfit Factor                        0.637454\nExpectancy [%]                      -0.088886\nSQN                                 -2.551792\n_strategy                 MyStrategy(n1=8,...\n_equity_curve                             ...\n_trades                        Size  Entry...\nSortino Ratio                      -14.508849\ndtype: object"
     },
     "execution_count": 543,
     "metadata": {},
     "output_type": "execute_result"
    }
   ],
   "source": [
    "from backtesting.lib import crossover\n",
    "\n",
    "\n",
    "class MyStrategy(SmaCross):\n",
    "    rsi_period = 10\n",
    "\n",
    "    def init(self):\n",
    "        self.I(indicator.sma, self.data.Close, self.n2)\n",
    "        self.I(indicator.trima, self.data.Close, self.n2)\n",
    "        self.I(indicator.zlema, self.data.Close, self.n2)\n",
    "        self.I(indicator.tema, self.data.Close, self.n2)\n",
    "        self.I(indicator.vwma, self.data.Close, self.data.Volume, self.n2)\n",
    "\n",
    "        ha = indicator.heiken_ashi(self.data.Open, self.data.High, self.data.Low, self.data.Close)\n",
    "        self.ha_open = self.I(lambda x: x, ha[0])\n",
    "        self.ha_close = self.I(lambda x: x, ha[-1])\n",
    "\n",
    "\n",
    "    def next(self):\n",
    "        if self.ha_open <= self.ha_close and not self.position.is_long:\n",
    "            self.position.close()\n",
    "            self.buy()\n",
    "        elif self.ha_open >= self.ha_close and not self.position.is_short:\n",
    "            self.position.close()\n",
    "            self.sell()\n",
    "        # if self.vol < 0.07:\n",
    "        #     self.position.close()\n",
    "        # else:\n",
    "        #     super(MyStrategy, self).next()\n",
    "        # if crossover(self.sma1, self.sma2):\n",
    "        #     self.position.close()\n",
    "        #     self.buy()\n",
    "        # elif crossover(self.sma2, self.sma1):\n",
    "        #     self.position.close()\n",
    "        #     self.sell()\n",
    "\n",
    "bt = Backtest(frame1, MyStrategy, trade_on_close=True)\n",
    "stats = bt.run(\n",
    "    n1=8,\n",
    "    n2=12,\n",
    "    rsi_period=20\n",
    ")\n",
    "bt.plot(open_browser=True)\n",
    "stats"
   ],
   "metadata": {
    "collapsed": false,
    "pycharm": {
     "name": "#%%\n"
    }
   }
  },
  {
   "cell_type": "code",
   "execution_count": 521,
   "outputs": [],
   "source": [
    "from ta.others import"
   ],
   "metadata": {
    "collapsed": false,
    "pycharm": {
     "name": "#%%\n"
    }
   }
  },
  {
   "cell_type": "code",
   "execution_count": 43,
   "outputs": [],
   "source": [],
   "metadata": {
    "collapsed": false,
    "pycharm": {
     "name": "#%%\n"
    }
   }
  },
  {
   "cell_type": "code",
   "execution_count": 14,
   "outputs": [],
   "source": [],
   "metadata": {
    "collapsed": false,
    "pycharm": {
     "name": "#%%\n"
    }
   }
  }
 ],
 "metadata": {
  "kernelspec": {
   "display_name": "Python 3",
   "language": "python",
   "name": "python3"
  },
  "language_info": {
   "codemirror_mode": {
    "name": "ipython",
    "version": 2
   },
   "file_extension": ".py",
   "mimetype": "text/x-python",
   "name": "python",
   "nbconvert_exporter": "python",
   "pygments_lexer": "ipython2",
   "version": "2.7.6"
  }
 },
 "nbformat": 4,
 "nbformat_minor": 0
}