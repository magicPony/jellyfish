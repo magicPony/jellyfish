{
 "cells": [
  {
   "cell_type": "code",
   "execution_count": 8,
   "outputs": [
    {
     "name": "stdout",
     "output_type": "stream",
     "text": [
      "The autoreload extension is already loaded. To reload it, use:\n",
      "  %reload_ext autoreload\n"
     ]
    }
   ],
   "source": [
    "%load_ext autoreload\n",
    "%autoreload 2"
   ],
   "metadata": {
    "collapsed": false,
    "pycharm": {
     "name": "#%%\n"
    }
   }
  },
  {
   "cell_type": "code",
   "execution_count": 32,
   "outputs": [
    {
     "data": {
      "text/plain": "  0%|          | 0/40 [00:00<?, ?it/s]",
      "application/vnd.jupyter.widget-view+json": {
       "version_major": 2,
       "version_minor": 0,
       "model_id": "5493c7d4fb374126b85c87cf97dee8bc"
      }
     },
     "metadata": {},
     "output_type": "display_data"
    },
    {
     "data": {
      "text/plain": "datetime.datetime(2021, 9, 25, 0, 0)"
     },
     "execution_count": 32,
     "metadata": {},
     "output_type": "execute_result"
    }
   ],
   "source": [
    "from jellyfish.core import Client\n",
    "from jellyfish.history_loader import load_candles_history\n",
    "from jellyfish import utils\n",
    "from datetime import datetime, timedelta\n",
    "\n",
    "utils.disable_warnings()\n",
    "\n",
    "pair = 'btcusdt'\n",
    "end_dt = datetime(year=2021, month=9, day=25)\n",
    "frame = load_candles_history(Client(), pair, end_dt=end_dt, interval='1m', candles_num=5000 * 4 * 2)\n",
    "end_dt"
   ],
   "metadata": {
    "collapsed": false,
    "pycharm": {
     "name": "#%%\n"
    }
   }
  },
  {
   "cell_type": "code",
   "execution_count": 33,
   "outputs": [
    {
     "data": {
      "text/plain": "  0%|          | 0/39941 [00:00<?, ?it/s]",
      "application/vnd.jupyter.widget-view+json": {
       "version_major": 2,
       "version_minor": 0,
       "model_id": "87e2e3932fdc40598122288a99cfe058"
      }
     },
     "metadata": {},
     "output_type": "display_data"
    }
   ],
   "source": [
    "from jellyfish import indicator\n",
    "import numpy as np\n",
    "\n",
    "returns = frame.Close / frame.Open\n",
    "hurst = indicator.hurst(returns, kind=indicator.HURST_CHANGE, simplified=False)"
   ],
   "metadata": {
    "collapsed": false,
    "pycharm": {
     "name": "#%%\n"
    }
   }
  },
  {
   "cell_type": "code",
   "execution_count": 34,
   "outputs": [],
   "source": [
    "th = hurst[100:].mean()\n",
    "th_eps = hurst[100:].std() * 1e-3\n",
    "th_eps = hurst[100:].std() * 3.5e-1\n",
    "\n",
    "frame['Persistent'] = (hurst > th + th_eps).astype(np.int32)\n",
    "frame['Reversal'] = (hurst < th - th_eps).astype(np.int32)\n",
    "frame['RandomWalk'] = (np.abs(hurst - th) < th_eps).astype(np.int32)\n",
    "frame['i_Hurst'] = hurst"
   ],
   "metadata": {
    "collapsed": false,
    "pycharm": {
     "name": "#%%\n"
    }
   }
  },
  {
   "cell_type": "code",
   "execution_count": 35,
   "outputs": [
    {
     "data": {
      "text/plain": "  0%|          | 0/40040 [00:00<?, ?it/s]",
      "application/vnd.jupyter.widget-view+json": {
       "version_major": 2,
       "version_minor": 0,
       "model_id": "ebee4860472943a580e847c5910be39d"
      }
     },
     "metadata": {},
     "output_type": "display_data"
    }
   ],
   "source": [
    "from jellyfish.transform.sampling import _generic_sampling, DEFAULT_SAMPLING_AGG\n",
    "from jellyfish.core import SmaCross, Backtest\n",
    "\n",
    "condition = lambda ohlc: ohlc.Persistent.max() + ohlc.Reversal.max() > 1\n",
    "frame1 = _generic_sampling(frame.reset_index(), condition, DEFAULT_SAMPLING_AGG).set_index('Date')"
   ],
   "metadata": {
    "collapsed": false,
    "pycharm": {
     "name": "#%%\n"
    }
   }
  },
  {
   "cell_type": "code",
   "execution_count": 36,
   "outputs": [
    {
     "data": {
      "text/plain": "Start                     2021-08-28 11:04:00\nEnd                       2021-09-25 03:00:00\nDuration                     27 days 15:56:00\nExposure Time [%]                    97.38339\nEquity Final [$]               1075653.904296\nEquity Peak [$]                1160011.590936\nReturn [%]                            7.56539\nBuy & Hold Return [%]              -12.595993\nReturn (Ann.) [%]                  150.401754\nVolatility (Ann.) [%]              162.430618\nSharpe Ratio                         1.873449\nCalmar Ratio                        11.917251\nMax. Drawdown [%]                   -9.667991\nAvg. Drawdown [%]                   -2.464498\nMax. Drawdown Duration        7 days 14:22:00\nAvg. Drawdown Duration        1 days 04:59:00\n# Trades                                   50\nWin Rate [%]                             32.0\nBest Trade [%]                       8.763043\nWorst Trade [%]                     -5.343425\nAvg. Trade [%]                        0.14668\nMax. Trade Duration           2 days 13:05:00\nAvg. Trade Duration           0 days 12:52:00\nProfit Factor                        1.242435\nExpectancy [%]                       0.176115\nSQN                                  0.438049\n_strategy                 SmaCross(n1=5,n2...\n_equity_curve                             ...\n_trades                       Size  EntryB...\nSortino Ratio                        2.498794\ndtype: object"
     },
     "execution_count": 36,
     "metadata": {},
     "output_type": "execute_result"
    }
   ],
   "source": [
    "bt = Backtest(frame1, SmaCross, trade_on_close=True)\n",
    "stats = bt.run(\n",
    "    n1=5,\n",
    "    n2=20\n",
    ")\n",
    "bt.plot(open_browser=True)\n",
    "stats"
   ],
   "metadata": {
    "collapsed": false,
    "pycharm": {
     "name": "#%%\n"
    }
   }
  },
  {
   "cell_type": "code",
   "execution_count": 17,
   "outputs": [],
   "source": [
    "utils.plot_ohlc(frame, open_browser=True);"
   ],
   "metadata": {
    "collapsed": false,
    "pycharm": {
     "name": "#%%\n"
    }
   }
  },
  {
   "cell_type": "code",
   "execution_count": 14,
   "outputs": [],
   "source": [],
   "metadata": {
    "collapsed": false,
    "pycharm": {
     "name": "#%%\n"
    }
   }
  }
 ],
 "metadata": {
  "kernelspec": {
   "display_name": "Python 3",
   "language": "python",
   "name": "python3"
  },
  "language_info": {
   "codemirror_mode": {
    "name": "ipython",
    "version": 2
   },
   "file_extension": ".py",
   "mimetype": "text/x-python",
   "name": "python",
   "nbconvert_exporter": "python",
   "pygments_lexer": "ipython2",
   "version": "2.7.6"
  }
 },
 "nbformat": 4,
 "nbformat_minor": 0
}