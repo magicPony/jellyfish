{
 "cells": [
  {
   "cell_type": "code",
   "execution_count": 8,
   "outputs": [
    {
     "name": "stdout",
     "output_type": "stream",
     "text": [
      "The autoreload extension is already loaded. To reload it, use:\n",
      "  %reload_ext autoreload\n"
     ]
    }
   ],
   "source": [
    "%load_ext autoreload\n",
    "%autoreload 2"
   ],
   "metadata": {
    "collapsed": false,
    "pycharm": {
     "name": "#%%\n"
    }
   }
  },
  {
   "cell_type": "code",
   "execution_count": 62,
   "outputs": [
    {
     "data": {
      "text/plain": "  0%|          | 0/10 [00:00<?, ?it/s]",
      "application/vnd.jupyter.widget-view+json": {
       "version_major": 2,
       "version_minor": 0,
       "model_id": "eee2ef27d23342d8b78253918a642578"
      }
     },
     "metadata": {},
     "output_type": "display_data"
    },
    {
     "data": {
      "text/plain": "  0%|          | 0/10 [00:00<?, ?it/s]",
      "application/vnd.jupyter.widget-view+json": {
       "version_major": 2,
       "version_minor": 0,
       "model_id": "bea42bc5e98d4b52923a9391de97b00b"
      }
     },
     "metadata": {},
     "output_type": "display_data"
    }
   ],
   "source": [
    "from jellyfish.core import Client\n",
    "from jellyfish.history_loader import load_candles_history\n",
    "from jellyfish import utils\n",
    "from datetime import datetime, timedelta\n",
    "\n",
    "utils.disable_warnings()\n",
    "\n",
    "pair = 'btcusdt'\n",
    "mid_dt = datetime(year=2021, month=9, day=25)\n",
    "size = 5000 * 2\n",
    "\n",
    "frame = load_candles_history(Client(), pair, end_dt=mid_dt, interval='1m', candles_num=size)\n",
    "val_frame = load_candles_history(Client(), pair, start_dt=mid_dt, interval='1m', candles_num=size)"
   ],
   "metadata": {
    "collapsed": false,
    "pycharm": {
     "name": "#%%\n"
    }
   }
  },
  {
   "cell_type": "code",
   "execution_count": 63,
   "outputs": [
    {
     "data": {
      "text/plain": "  0%|          | 0/9911 [00:00<?, ?it/s]",
      "application/vnd.jupyter.widget-view+json": {
       "version_major": 2,
       "version_minor": 0,
       "model_id": "14a7a11d453b4612969705fa51707d54"
      }
     },
     "metadata": {},
     "output_type": "display_data"
    },
    {
     "data": {
      "text/plain": "  0%|          | 0/9791 [00:00<?, ?it/s]",
      "application/vnd.jupyter.widget-view+json": {
       "version_major": 2,
       "version_minor": 0,
       "model_id": "a074091fc623417293dce576a739faac"
      }
     },
     "metadata": {},
     "output_type": "display_data"
    }
   ],
   "source": [
    "from jellyfish import indicator\n",
    "import numpy as np\n",
    "import pandas as pd\n",
    "\n",
    "def preprocess(frame: pd.DataFrame):\n",
    "    returns = frame.Close / frame.Open\n",
    "    hurst = indicator.hurst(returns, kind=indicator.HURST_CHANGE, simplified=False)\n",
    "\n",
    "    th = hurst[100:].mean()\n",
    "    th_eps = hurst[100:].std() * 1e-3\n",
    "    th_eps = hurst[100:].std() * 3.5e-1\n",
    "\n",
    "    frame['Persistent'] = (hurst > th + th_eps).astype(np.int32)\n",
    "    frame['Reversal'] = (hurst < th - th_eps).astype(np.int32)\n",
    "    frame['RandomWalk'] = (np.abs(hurst - th) < th_eps).astype(np.int32)\n",
    "    frame['i_Hurst'] = hurst\n",
    "    return frame\n",
    "\n",
    "frame = preprocess(frame)\n",
    "val_frame = preprocess(val_frame)"
   ],
   "metadata": {
    "collapsed": false,
    "pycharm": {
     "name": "#%%\n"
    }
   }
  },
  {
   "cell_type": "code",
   "execution_count": 63,
   "outputs": [],
   "source": [],
   "metadata": {
    "collapsed": false,
    "pycharm": {
     "name": "#%%\n"
    }
   }
  },
  {
   "cell_type": "code",
   "execution_count": 64,
   "outputs": [
    {
     "data": {
      "text/plain": "  0%|          | 0/10010 [00:00<?, ?it/s]",
      "application/vnd.jupyter.widget-view+json": {
       "version_major": 2,
       "version_minor": 0,
       "model_id": "703bf17a76434b90b7f7fb27619152ae"
      }
     },
     "metadata": {},
     "output_type": "display_data"
    },
    {
     "data": {
      "text/plain": "  0%|          | 0/9890 [00:00<?, ?it/s]",
      "application/vnd.jupyter.widget-view+json": {
       "version_major": 2,
       "version_minor": 0,
       "model_id": "8767915ff79e46259fe0a8f924401ae0"
      }
     },
     "metadata": {},
     "output_type": "display_data"
    }
   ],
   "source": [
    "from jellyfish.transform.sampling import _generic_sampling, DEFAULT_SAMPLING_AGG\n",
    "from jellyfish.core import SmaCross, Backtest\n",
    "\n",
    "condition = lambda ohlc: ohlc.Persistent.max() + ohlc.Reversal.max() > 1\n",
    "frame1 = _generic_sampling(frame.reset_index(), condition, DEFAULT_SAMPLING_AGG).set_index('Date')\n",
    "frame2 = _generic_sampling(val_frame.reset_index(), condition, DEFAULT_SAMPLING_AGG).set_index('Date')"
   ],
   "metadata": {
    "collapsed": false,
    "pycharm": {
     "name": "#%%\n"
    }
   }
  },
  {
   "cell_type": "code",
   "execution_count": 65,
   "outputs": [
    {
     "data": {
      "text/plain": "Backtest.optimize:   0%|          | 0/15 [00:00<?, ?it/s]",
      "application/vnd.jupyter.widget-view+json": {
       "version_major": 2,
       "version_minor": 0,
       "model_id": "300bc2ce9937449bb19f9cfdc3ec5398"
      }
     },
     "metadata": {},
     "output_type": "display_data"
    },
    {
     "data": {
      "text/plain": "Start                     2021-09-18 06:08:00\nEnd                       2021-09-25 03:00:00\nDuration                      6 days 20:52:00\nExposure Time [%]                   94.690265\nEquity Final [$]               1167017.928536\nEquity Peak [$]                1172234.173016\nReturn [%]                          16.701793\nBuy & Hold Return [%]              -10.295659\nReturn (Ann.) [%]               105524.718518\nVolatility (Ann.) [%]            72687.003483\nSharpe Ratio                        10.374384\nCalmar Ratio                       175.602478\nMax. Drawdown [%]                   -4.887543\nAvg. Drawdown [%]                   -1.552991\nMax. Drawdown Duration        2 days 13:41:00\nAvg. Drawdown Duration        0 days 13:58:00\n# Trades                                   35\nWin Rate [%]                        48.571429\nBest Trade [%]                       7.290834\nWorst Trade [%]                     -2.046613\nAvg. Trade [%]                       0.448813\nMax. Trade Duration           0 days 17:21:00\nAvg. Trade Duration           0 days 04:33:00\nProfit Factor                        2.686712\nExpectancy [%]                       0.464527\nSQN                                   1.53642\n_strategy                 SmaCross(n1=5,n2=7)\n_equity_curve                             ...\n_trades                       Size  EntryB...\nSortino Ratio                       18.068531\ndtype: object"
     },
     "execution_count": 65,
     "metadata": {},
     "output_type": "execute_result"
    }
   ],
   "source": [
    "bt = Backtest(frame1, SmaCross, trade_on_close=True)\n",
    "stats = bt.optimize(\n",
    "    n1=range(5, 25, 2),\n",
    "    n2=range(5,25, 2),\n",
    "    constraint=lambda p: p.n1 < p.n2,\n",
    "    maximize='Calmar Ratio',\n",
    ")\n",
    "# bt.plot(open_browser=True)\n",
    "stats"
   ],
   "metadata": {
    "collapsed": false,
    "pycharm": {
     "name": "#%%\n"
    }
   }
  },
  {
   "cell_type": "code",
   "execution_count": 66,
   "outputs": [
    {
     "data": {
      "text/plain": "Start                     2021-09-25 04:45:00\nEnd                       2021-10-02 01:40:00\nDuration                      6 days 20:55:00\nExposure Time [%]                   95.594714\nEquity Final [$]               1043418.599184\nEquity Peak [$]                1044551.759184\nReturn [%]                            4.34186\nBuy & Hold Return [%]               13.437118\nReturn (Ann.) [%]                 1326.935403\nVolatility (Ann.) [%]             1016.010806\nSharpe Ratio                         3.790872\nCalmar Ratio                        28.802696\nMax. Drawdown [%]                   -8.608719\nAvg. Drawdown [%]                   -2.438393\nMax. Drawdown Duration        5 days 04:35:00\nAvg. Drawdown Duration        1 days 07:40:00\n# Trades                                   38\nWin Rate [%]                        42.105263\nBest Trade [%]                       8.982103\nWorst Trade [%]                     -2.030996\nAvg. Trade [%]                       0.118545\nMax. Trade Duration           0 days 17:20:00\nAvg. Trade Duration           0 days 04:10:00\nProfit Factor                        1.313287\nExpectancy [%]                       0.134648\nSQN                                  0.408432\n_strategy                 SmaCross(n1=5,n2=7)\n_equity_curve                             ...\n_trades                       Size  EntryB...\nSortino Ratio                        6.210495\ndtype: object"
     },
     "execution_count": 66,
     "metadata": {},
     "output_type": "execute_result"
    }
   ],
   "source": [
    "params = stats._strategy\n",
    "bt = Backtest(frame2, SmaCross, trade_on_close=True)\n",
    "stats = bt.run(\n",
    "    n1=params.n1,\n",
    "    n2=params.n2\n",
    ")\n",
    "bt.plot(open_browser=True)\n",
    "stats"
   ],
   "metadata": {
    "collapsed": false,
    "pycharm": {
     "name": "#%%\n"
    }
   }
  },
  {
   "cell_type": "code",
   "execution_count": 43,
   "outputs": [],
   "source": [],
   "metadata": {
    "collapsed": false,
    "pycharm": {
     "name": "#%%\n"
    }
   }
  },
  {
   "cell_type": "code",
   "execution_count": 14,
   "outputs": [],
   "source": [],
   "metadata": {
    "collapsed": false,
    "pycharm": {
     "name": "#%%\n"
    }
   }
  }
 ],
 "metadata": {
  "kernelspec": {
   "display_name": "Python 3",
   "language": "python",
   "name": "python3"
  },
  "language_info": {
   "codemirror_mode": {
    "name": "ipython",
    "version": 2
   },
   "file_extension": ".py",
   "mimetype": "text/x-python",
   "name": "python",
   "nbconvert_exporter": "python",
   "pygments_lexer": "ipython2",
   "version": "2.7.6"
  }
 },
 "nbformat": 4,
 "nbformat_minor": 0
}