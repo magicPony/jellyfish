{
 "cells": [
  {
   "cell_type": "code",
   "execution_count": 33,
   "metadata": {
    "collapsed": true,
    "pycharm": {
     "name": "#%%\n"
    }
   },
   "outputs": [
    {
     "name": "stdout",
     "output_type": "stream",
     "text": [
      "The autoreload extension is already loaded. To reload it, use:\n",
      "  %reload_ext autoreload\n"
     ]
    }
   ],
   "source": [
    "%load_ext autoreload\n",
    "%autoreload 2\n",
    "\n",
    "from backtesting import Strategy, Backtest\n",
    "from backtesting.lib import crossover\n",
    "from backtesting.test import SMA\n",
    "\n",
    "\n",
    "# noinspection PyAttributeOutsideInit\n",
    "class SmaCross(Strategy):\n",
    "    # Define the two MA lags as *class variables*\n",
    "    # for later optimization\n",
    "    n1 = 10\n",
    "    n2 = 20\n",
    "\n",
    "    def init(self):\n",
    "        # Precompute the two moving averages\n",
    "        self.sma1 = self.I(SMA, self.data.Close, self.n1)\n",
    "        self.sma2 = self.I(SMA, self.data.Close, self.n2)\n",
    "\n",
    "    def next(self):\n",
    "        # If sma1 crosses above sma2, close any existing\n",
    "        # short trades, and buy the asset\n",
    "        if crossover(self.sma1, self.sma2):\n",
    "            self.position.close()\n",
    "            self.buy()\n",
    "\n",
    "        # Else, if sma1 crosses below sma2, close any existing\n",
    "        # long trades, and sell the asset\n",
    "        elif crossover(self.sma2, self.sma1):\n",
    "            self.position.close()\n",
    "            self.sell()"
   ]
  },
  {
   "cell_type": "code",
   "execution_count": 34,
   "outputs": [
    {
     "name": "stdout",
     "output_type": "stream",
     "text": [
      "Release unicorn-binance-rest-api_1.4.3 is available, please consider updating! (Changelog: https://github.com/oliver-zehentleitner/unicorn-binance-rest-api/blob/master/CHANGELOG.md)\n"
     ]
    },
    {
     "name": "stderr",
     "output_type": "stream",
     "text": [
      "WARNING:root:Release unicorn-binance-rest-api_1.4.3 is available, please consider updating! (Changelog: https://github.com/oliver-zehentleitner/unicorn-binance-rest-api/blob/master/CHANGELOG.md)\n",
      "100%|██████████| 19/19 [00:22<00:00,  1.18s/it, from_date=2022-03-26 15:05:27, to_date=2022-04-10 16:05:27]\n"
     ]
    },
    {
     "data": {
      "text/plain": "               Open     High      Low    Close        Volume  \\\nDate                                                           \n2019-04-13  5017.37  5080.58  4861.22  5048.01  33276.678614   \n2019-04-14  5047.00  5099.00  5004.00  5045.22  17292.456802   \n2019-04-15  5047.45  5152.99  5000.00  5131.30  18281.607739   \n2019-04-16  5131.28  5167.38  4950.00  5024.95  29057.191581   \n2019-04-17  5024.95  5197.72  5003.94  5173.72  24242.229493   \n\n            QuoteAssetVolume  NumOfTrades  TakerBuyAssetVolume  \\\nDate                                                             \n2019-04-13      1.664858e+08     226036.0         16899.590533   \n2019-04-14      8.737598e+07     138674.0          8692.053259   \n2019-04-15      9.259493e+07     131700.0         10043.911667   \n2019-04-16      1.476876e+08     204944.0         14170.252402   \n2019-04-17      1.235817e+08     168550.0         12804.633768   \n\n            TakerSellAssetVolume  \nDate                              \n2019-04-13          8.456182e+07  \n2019-04-14          4.392529e+07  \n2019-04-15          5.089395e+07  \n2019-04-16          7.207017e+07  \n2019-04-17          6.529062e+07  ",
      "text/html": "<div>\n<style scoped>\n    .dataframe tbody tr th:only-of-type {\n        vertical-align: middle;\n    }\n\n    .dataframe tbody tr th {\n        vertical-align: top;\n    }\n\n    .dataframe thead th {\n        text-align: right;\n    }\n</style>\n<table border=\"1\" class=\"dataframe\">\n  <thead>\n    <tr style=\"text-align: right;\">\n      <th></th>\n      <th>Open</th>\n      <th>High</th>\n      <th>Low</th>\n      <th>Close</th>\n      <th>Volume</th>\n      <th>QuoteAssetVolume</th>\n      <th>NumOfTrades</th>\n      <th>TakerBuyAssetVolume</th>\n      <th>TakerSellAssetVolume</th>\n    </tr>\n    <tr>\n      <th>Date</th>\n      <th></th>\n      <th></th>\n      <th></th>\n      <th></th>\n      <th></th>\n      <th></th>\n      <th></th>\n      <th></th>\n      <th></th>\n    </tr>\n  </thead>\n  <tbody>\n    <tr>\n      <th>2019-04-13</th>\n      <td>5017.37</td>\n      <td>5080.58</td>\n      <td>4861.22</td>\n      <td>5048.01</td>\n      <td>33276.678614</td>\n      <td>1.664858e+08</td>\n      <td>226036.0</td>\n      <td>16899.590533</td>\n      <td>8.456182e+07</td>\n    </tr>\n    <tr>\n      <th>2019-04-14</th>\n      <td>5047.00</td>\n      <td>5099.00</td>\n      <td>5004.00</td>\n      <td>5045.22</td>\n      <td>17292.456802</td>\n      <td>8.737598e+07</td>\n      <td>138674.0</td>\n      <td>8692.053259</td>\n      <td>4.392529e+07</td>\n    </tr>\n    <tr>\n      <th>2019-04-15</th>\n      <td>5047.45</td>\n      <td>5152.99</td>\n      <td>5000.00</td>\n      <td>5131.30</td>\n      <td>18281.607739</td>\n      <td>9.259493e+07</td>\n      <td>131700.0</td>\n      <td>10043.911667</td>\n      <td>5.089395e+07</td>\n    </tr>\n    <tr>\n      <th>2019-04-16</th>\n      <td>5131.28</td>\n      <td>5167.38</td>\n      <td>4950.00</td>\n      <td>5024.95</td>\n      <td>29057.191581</td>\n      <td>1.476876e+08</td>\n      <td>204944.0</td>\n      <td>14170.252402</td>\n      <td>7.207017e+07</td>\n    </tr>\n    <tr>\n      <th>2019-04-17</th>\n      <td>5024.95</td>\n      <td>5197.72</td>\n      <td>5003.94</td>\n      <td>5173.72</td>\n      <td>24242.229493</td>\n      <td>1.235817e+08</td>\n      <td>168550.0</td>\n      <td>12804.633768</td>\n      <td>6.529062e+07</td>\n    </tr>\n  </tbody>\n</table>\n</div>"
     },
     "execution_count": 34,
     "metadata": {},
     "output_type": "execute_result"
    }
   ],
   "source": [
    "from datetime import datetime, timedelta\n",
    "from dune.utils import load_history\n",
    "\n",
    "today = datetime.now()\n",
    "duration = timedelta(days=365*3)\n",
    "data = load_history(\n",
    "    t_start=(today - duration).timestamp(),\n",
    "    t_end=today.timestamp(),\n",
    "    interval='1d')\n",
    "\n",
    "data.head()"
   ],
   "metadata": {
    "collapsed": false,
    "pycharm": {
     "name": "#%%\n"
    }
   }
  },
  {
   "cell_type": "code",
   "execution_count": 29,
   "outputs": [],
   "source": [],
   "metadata": {
    "collapsed": false,
    "pycharm": {
     "name": "#%%\n"
    }
   }
  },
  {
   "cell_type": "code",
   "execution_count": null,
   "outputs": [],
   "source": [],
   "metadata": {
    "collapsed": false,
    "pycharm": {
     "name": "#%%\n"
    }
   }
  }
 ],
 "metadata": {
  "kernelspec": {
   "display_name": "Python 3",
   "language": "python",
   "name": "python3"
  },
  "language_info": {
   "codemirror_mode": {
    "name": "ipython",
    "version": 2
   },
   "file_extension": ".py",
   "mimetype": "text/x-python",
   "name": "python",
   "nbconvert_exporter": "python",
   "pygments_lexer": "ipython2",
   "version": "2.7.6"
  }
 },
 "nbformat": 4,
 "nbformat_minor": 0
}