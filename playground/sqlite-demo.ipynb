{
 "cells": [
  {
   "cell_type": "code",
   "execution_count": 3,
   "id": "e44fdd5a",
   "metadata": {},
   "outputs": [],
   "source": [
    "import sqlite3\n",
    "\n",
    "connection = sqlite3.connect(':memory')\n",
    "cursor = connection.cursor()"
   ]
  },
  {
   "cell_type": "code",
   "execution_count": 13,
   "id": "46d3f401",
   "metadata": {},
   "outputs": [
    {
     "data": {
      "text/plain": [
       "['21235.84000000',\n",
       " '21285.00000000',\n",
       " '20722.04000000',\n",
       " '20737.81000000',\n",
       " '7499.50923000',\n",
       " 1656338399999,\n",
       " '157267545.88894270',\n",
       " 100848,\n",
       " '3458.55654000',\n",
       " '72536375.09945470']"
      ]
     },
     "execution_count": 13,
     "metadata": {},
     "output_type": "execute_result"
    }
   ],
   "source": [
    "from datetime import datetime, timedelta\n",
    "\n",
    "from jellyfish.core import Client\n",
    "from jellyfish.history_loader import get_sample_frame\n",
    "\n",
    "client = Client()\n",
    "\n",
    "pair_sym = 'BTCUSDT'\n",
    "interval = '1h'\n",
    "end_dt = datetime.now()\n",
    "start_dt = end_dt - timedelta(hours=7)\n",
    "\n",
    "candles = client.get_historical_klines(pair_sym, interval, str(start_dt), str(end_dt))\n",
    "candles = [i[1:11] for i in candles]\n",
    "candles[0]"
   ]
  },
  {
   "cell_type": "code",
   "execution_count": 14,
   "id": "ac9373a9",
   "metadata": {},
   "outputs": [
    {
     "data": {
      "text/plain": [
       "<sqlite3.Cursor at 0x7f066051d940>"
      ]
     },
     "execution_count": 14,
     "metadata": {},
     "output_type": "execute_result"
    }
   ],
   "source": [
    "cmd = \"\"\"\n",
    "    CREATE TABLE IF NOT EXISTS %s (\n",
    "        open REAL,\n",
    "        high REAL,\n",
    "        low REAL,\n",
    "        close REAL,\n",
    "        volume REAL,\n",
    "        timestamp INT PRIMARY KEY,\n",
    "        quote_asset_volume REAL,\n",
    "        num_of_trades INTEGER,\n",
    "        taker_buy_asset_volume REAL,\n",
    "        taker_sell_asset_volume REAL\n",
    "    )\n",
    "\"\"\"\n",
    "\n",
    "cmd = ' '.join((cmd % pair_sym).split())\n",
    "cursor.execute(cmd)"
   ]
  },
  {
   "cell_type": "code",
   "execution_count": 15,
   "id": "c3b4e5b8",
   "metadata": {},
   "outputs": [
    {
     "data": {
      "text/plain": [
       "<sqlite3.Cursor at 0x7f066051d940>"
      ]
     },
     "execution_count": 15,
     "metadata": {},
     "output_type": "execute_result"
    }
   ],
   "source": [
    "cmd = f'INSERT OR IGNORE INTO {pair_sym} VALUES ({\",\".join(\"?\" for _ in candles[0])})'\n",
    "cmd\n",
    "cursor.executemany(cmd, candles)"
   ]
  },
  {
   "cell_type": "code",
   "execution_count": 16,
   "id": "5815bc93",
   "metadata": {},
   "outputs": [
    {
     "name": "stdout",
     "output_type": "stream",
     "text": [
      "(21235.84, 21285.0, 20722.04, 20737.81, 7499.50923, 1656338399999, 157267545.8889427, 100848, 3458.55654, 72536375.0994547)\n",
      "(20737.82, 20845.37, 20590.0, 20820.51, 7174.28946, 1656341999999, 148537189.7972275, 99268, 3541.35965, 73321496.9913034)\n",
      "(20820.5, 20851.51, 20675.11, 20754.73, 3241.02673, 1656345599999, 67306673.0624312, 53457, 1611.31093, 33460047.14791)\n",
      "(20754.74, 20762.57, 20702.0, 20702.01, 531.23138, 1656349199999, 11011141.8259208, 10915, 267.01295, 5534586.9654252)\n"
     ]
    }
   ],
   "source": [
    "for i in cursor.execute(f'SELECT * FROM {pair_sym}'):\n",
    "    print(i)"
   ]
  },
  {
   "cell_type": "code",
   "execution_count": 17,
   "id": "d26655c4",
   "metadata": {},
   "outputs": [
    {
     "name": "stdout",
     "output_type": "stream",
     "text": [
      "DELETE FROM BTCUSDT\n"
     ]
    },
    {
     "data": {
      "text/plain": [
       "<sqlite3.Cursor at 0x7f066051d940>"
      ]
     },
     "execution_count": 17,
     "metadata": {},
     "output_type": "execute_result"
    }
   ],
   "source": [
    "cmd = f'DELETE FROM {pair_sym}'\n",
    "print(cmd)\n",
    "cursor.execute(cmd)"
   ]
  },
  {
   "cell_type": "code",
   "execution_count": null,
   "id": "e36b20ee",
   "metadata": {},
   "outputs": [],
   "source": []
  },
  {
   "cell_type": "code",
   "execution_count": null,
   "id": "45f0af2a",
   "metadata": {},
   "outputs": [],
   "source": []
  },
  {
   "cell_type": "code",
   "execution_count": null,
   "id": "a6c02e2a",
   "metadata": {},
   "outputs": [],
   "source": []
  },
  {
   "cell_type": "code",
   "execution_count": null,
   "id": "6b566f82",
   "metadata": {},
   "outputs": [],
   "source": []
  }
 ],
 "metadata": {
  "kernelspec": {
   "display_name": "Python 3 (ipykernel)",
   "language": "python",
   "name": "python3"
  },
  "language_info": {
   "codemirror_mode": {
    "name": "ipython",
    "version": 3
   },
   "file_extension": ".py",
   "mimetype": "text/x-python",
   "name": "python",
   "nbconvert_exporter": "python",
   "pygments_lexer": "ipython3",
   "version": "3.10.4"
  }
 },
 "nbformat": 4,
 "nbformat_minor": 5
}
