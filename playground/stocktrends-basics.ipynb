{
 "cells": [
  {
   "cell_type": "code",
   "execution_count": 1,
   "outputs": [
    {
     "name": "stderr",
     "output_type": "stream",
     "text": [
      "/home/tarasnovokhatskiy/jellyfish/.venv/lib/python3.8/site-packages/backtesting/_plotting.py:50: UserWarning: Jupyter Notebook detected. Setting Bokeh output to notebook. This may not work in Jupyter clients without JavaScript support (e.g. PyCharm, Spyder IDE). Reset with `backtesting.set_bokeh_output(notebook=False)`.\n",
      "  warnings.warn('Jupyter Notebook detected. '\n"
     ]
    },
    {
     "data": {
      "text/html": "\n    <div class=\"bk-root\">\n        <a href=\"https://bokeh.org\" target=\"_blank\" class=\"bk-logo bk-logo-small bk-logo-notebook\"></a>\n        <span id=\"1002\">Loading BokehJS ...</span>\n    </div>"
     },
     "metadata": {},
     "output_type": "display_data"
    },
    {
     "data": {
      "application/javascript": "\n(function(root) {\n  function now() {\n    return new Date();\n  }\n\n  const force = true;\n\n  if (typeof root._bokeh_onload_callbacks === \"undefined\" || force === true) {\n    root._bokeh_onload_callbacks = [];\n    root._bokeh_is_loading = undefined;\n  }\n\n  const JS_MIME_TYPE = 'application/javascript';\n  const HTML_MIME_TYPE = 'text/html';\n  const EXEC_MIME_TYPE = 'application/vnd.bokehjs_exec.v0+json';\n  const CLASS_NAME = 'output_bokeh rendered_html';\n\n  /**\n   * Render data to the DOM node\n   */\n  function render(props, node) {\n    const script = document.createElement(\"script\");\n    node.appendChild(script);\n  }\n\n  /**\n   * Handle when an output is cleared or removed\n   */\n  function handleClearOutput(event, handle) {\n    const cell = handle.cell;\n\n    const id = cell.output_area._bokeh_element_id;\n    const server_id = cell.output_area._bokeh_server_id;\n    // Clean up Bokeh references\n    if (id != null && id in Bokeh.index) {\n      Bokeh.index[id].model.document.clear();\n      delete Bokeh.index[id];\n    }\n\n    if (server_id !== undefined) {\n      // Clean up Bokeh references\n      const cmd_clean = \"from bokeh.io.state import curstate; print(curstate().uuid_to_server['\" + server_id + \"'].get_sessions()[0].document.roots[0]._id)\";\n      cell.notebook.kernel.execute(cmd_clean, {\n        iopub: {\n          output: function(msg) {\n            const id = msg.content.text.trim();\n            if (id in Bokeh.index) {\n              Bokeh.index[id].model.document.clear();\n              delete Bokeh.index[id];\n            }\n          }\n        }\n      });\n      // Destroy server and session\n      const cmd_destroy = \"import bokeh.io.notebook as ion; ion.destroy_server('\" + server_id + \"')\";\n      cell.notebook.kernel.execute(cmd_destroy);\n    }\n  }\n\n  /**\n   * Handle when a new output is added\n   */\n  function handleAddOutput(event, handle) {\n    const output_area = handle.output_area;\n    const output = handle.output;\n\n    // limit handleAddOutput to display_data with EXEC_MIME_TYPE content only\n    if ((output.output_type != \"display_data\") || (!Object.prototype.hasOwnProperty.call(output.data, EXEC_MIME_TYPE))) {\n      return\n    }\n\n    const toinsert = output_area.element.find(\".\" + CLASS_NAME.split(' ')[0]);\n\n    if (output.metadata[EXEC_MIME_TYPE][\"id\"] !== undefined) {\n      toinsert[toinsert.length - 1].firstChild.textContent = output.data[JS_MIME_TYPE];\n      // store reference to embed id on output_area\n      output_area._bokeh_element_id = output.metadata[EXEC_MIME_TYPE][\"id\"];\n    }\n    if (output.metadata[EXEC_MIME_TYPE][\"server_id\"] !== undefined) {\n      const bk_div = document.createElement(\"div\");\n      bk_div.innerHTML = output.data[HTML_MIME_TYPE];\n      const script_attrs = bk_div.children[0].attributes;\n      for (let i = 0; i < script_attrs.length; i++) {\n        toinsert[toinsert.length - 1].firstChild.setAttribute(script_attrs[i].name, script_attrs[i].value);\n        toinsert[toinsert.length - 1].firstChild.textContent = bk_div.children[0].textContent\n      }\n      // store reference to server id on output_area\n      output_area._bokeh_server_id = output.metadata[EXEC_MIME_TYPE][\"server_id\"];\n    }\n  }\n\n  function register_renderer(events, OutputArea) {\n\n    function append_mime(data, metadata, element) {\n      // create a DOM node to render to\n      const toinsert = this.create_output_subarea(\n        metadata,\n        CLASS_NAME,\n        EXEC_MIME_TYPE\n      );\n      this.keyboard_manager.register_events(toinsert);\n      // Render to node\n      const props = {data: data, metadata: metadata[EXEC_MIME_TYPE]};\n      render(props, toinsert[toinsert.length - 1]);\n      element.append(toinsert);\n      return toinsert\n    }\n\n    /* Handle when an output is cleared or removed */\n    events.on('clear_output.CodeCell', handleClearOutput);\n    events.on('delete.Cell', handleClearOutput);\n\n    /* Handle when a new output is added */\n    events.on('output_added.OutputArea', handleAddOutput);\n\n    /**\n     * Register the mime type and append_mime function with output_area\n     */\n    OutputArea.prototype.register_mime_type(EXEC_MIME_TYPE, append_mime, {\n      /* Is output safe? */\n      safe: true,\n      /* Index of renderer in `output_area.display_order` */\n      index: 0\n    });\n  }\n\n  // register the mime type if in Jupyter Notebook environment and previously unregistered\n  if (root.Jupyter !== undefined) {\n    const events = require('base/js/events');\n    const OutputArea = require('notebook/js/outputarea').OutputArea;\n\n    if (OutputArea.prototype.mime_types().indexOf(EXEC_MIME_TYPE) == -1) {\n      register_renderer(events, OutputArea);\n    }\n  }\n\n  \n  if (typeof (root._bokeh_timeout) === \"undefined\" || force === true) {\n    root._bokeh_timeout = Date.now() + 5000;\n    root._bokeh_failed_load = false;\n  }\n\n  const NB_LOAD_WARNING = {'data': {'text/html':\n     \"<div style='background-color: #fdd'>\\n\"+\n     \"<p>\\n\"+\n     \"BokehJS does not appear to have successfully loaded. If loading BokehJS from CDN, this \\n\"+\n     \"may be due to a slow or bad network connection. Possible fixes:\\n\"+\n     \"</p>\\n\"+\n     \"<ul>\\n\"+\n     \"<li>re-rerun `output_notebook()` to attempt to load from CDN again, or</li>\\n\"+\n     \"<li>use INLINE resources instead, as so:</li>\\n\"+\n     \"</ul>\\n\"+\n     \"<code>\\n\"+\n     \"from bokeh.resources import INLINE\\n\"+\n     \"output_notebook(resources=INLINE)\\n\"+\n     \"</code>\\n\"+\n     \"</div>\"}};\n\n  function display_loaded() {\n    const el = document.getElementById(\"1002\");\n    if (el != null) {\n      el.textContent = \"BokehJS is loading...\";\n    }\n    if (root.Bokeh !== undefined) {\n      if (el != null) {\n        el.textContent = \"BokehJS \" + root.Bokeh.version + \" successfully loaded.\";\n      }\n    } else if (Date.now() < root._bokeh_timeout) {\n      setTimeout(display_loaded, 100)\n    }\n  }\n\n\n  function run_callbacks() {\n    try {\n      root._bokeh_onload_callbacks.forEach(function(callback) {\n        if (callback != null)\n          callback();\n      });\n    } finally {\n      delete root._bokeh_onload_callbacks\n    }\n    console.debug(\"Bokeh: all callbacks have finished\");\n  }\n\n  function load_libs(css_urls, js_urls, callback) {\n    if (css_urls == null) css_urls = [];\n    if (js_urls == null) js_urls = [];\n\n    root._bokeh_onload_callbacks.push(callback);\n    if (root._bokeh_is_loading > 0) {\n      console.debug(\"Bokeh: BokehJS is being loaded, scheduling callback at\", now());\n      return null;\n    }\n    if (js_urls == null || js_urls.length === 0) {\n      run_callbacks();\n      return null;\n    }\n    console.debug(\"Bokeh: BokehJS not loaded, scheduling load and callback at\", now());\n    root._bokeh_is_loading = css_urls.length + js_urls.length;\n\n    function on_load() {\n      root._bokeh_is_loading--;\n      if (root._bokeh_is_loading === 0) {\n        console.debug(\"Bokeh: all BokehJS libraries/stylesheets loaded\");\n        run_callbacks()\n      }\n    }\n\n    function on_error(url) {\n      console.error(\"failed to load \" + url);\n    }\n\n    for (let i = 0; i < css_urls.length; i++) {\n      const url = css_urls[i];\n      const element = document.createElement(\"link\");\n      element.onload = on_load;\n      element.onerror = on_error.bind(null, url);\n      element.rel = \"stylesheet\";\n      element.type = \"text/css\";\n      element.href = url;\n      console.debug(\"Bokeh: injecting link tag for BokehJS stylesheet: \", url);\n      document.body.appendChild(element);\n    }\n\n    for (let i = 0; i < js_urls.length; i++) {\n      const url = js_urls[i];\n      const element = document.createElement('script');\n      element.onload = on_load;\n      element.onerror = on_error.bind(null, url);\n      element.async = false;\n      element.src = url;\n      console.debug(\"Bokeh: injecting script tag for BokehJS library: \", url);\n      document.head.appendChild(element);\n    }\n  };\n\n  function inject_raw_css(css) {\n    const element = document.createElement(\"style\");\n    element.appendChild(document.createTextNode(css));\n    document.body.appendChild(element);\n  }\n\n  \n  const js_urls = [\"https://cdn.bokeh.org/bokeh/release/bokeh-2.4.2.min.js\", \"https://cdn.bokeh.org/bokeh/release/bokeh-gl-2.4.2.min.js\", \"https://cdn.bokeh.org/bokeh/release/bokeh-widgets-2.4.2.min.js\", \"https://cdn.bokeh.org/bokeh/release/bokeh-tables-2.4.2.min.js\", \"https://cdn.bokeh.org/bokeh/release/bokeh-mathjax-2.4.2.min.js\"];\n  const css_urls = [];\n  \n\n  const inline_js = [\n    function(Bokeh) {\n      Bokeh.set_log_level(\"info\");\n    },\n    function(Bokeh) {\n    \n    \n    }\n  ];\n\n  function run_inline_js() {\n    \n    if (root.Bokeh !== undefined || force === true) {\n      \n    for (let i = 0; i < inline_js.length; i++) {\n      inline_js[i].call(root, root.Bokeh);\n    }\n    if (force === true) {\n        display_loaded();\n      }} else if (Date.now() < root._bokeh_timeout) {\n      setTimeout(run_inline_js, 100);\n    } else if (!root._bokeh_failed_load) {\n      console.log(\"Bokeh: BokehJS failed to load within specified timeout.\");\n      root._bokeh_failed_load = true;\n    } else if (force !== true) {\n      const cell = $(document.getElementById(\"1002\")).parents('.cell').data().cell;\n      cell.output_area.append_execute_result(NB_LOAD_WARNING)\n    }\n\n  }\n\n  if (root._bokeh_is_loading === 0) {\n    console.debug(\"Bokeh: BokehJS loaded, going straight to plotting\");\n    run_inline_js();\n  } else {\n    load_libs(css_urls, js_urls, function() {\n      console.debug(\"Bokeh: BokehJS plotting callback run at\", now());\n      run_inline_js();\n    });\n  }\n}(window));",
      "application/vnd.bokehjs_load.v0+json": "\n(function(root) {\n  function now() {\n    return new Date();\n  }\n\n  const force = true;\n\n  if (typeof root._bokeh_onload_callbacks === \"undefined\" || force === true) {\n    root._bokeh_onload_callbacks = [];\n    root._bokeh_is_loading = undefined;\n  }\n\n  \n\n  \n  if (typeof (root._bokeh_timeout) === \"undefined\" || force === true) {\n    root._bokeh_timeout = Date.now() + 5000;\n    root._bokeh_failed_load = false;\n  }\n\n  const NB_LOAD_WARNING = {'data': {'text/html':\n     \"<div style='background-color: #fdd'>\\n\"+\n     \"<p>\\n\"+\n     \"BokehJS does not appear to have successfully loaded. If loading BokehJS from CDN, this \\n\"+\n     \"may be due to a slow or bad network connection. Possible fixes:\\n\"+\n     \"</p>\\n\"+\n     \"<ul>\\n\"+\n     \"<li>re-rerun `output_notebook()` to attempt to load from CDN again, or</li>\\n\"+\n     \"<li>use INLINE resources instead, as so:</li>\\n\"+\n     \"</ul>\\n\"+\n     \"<code>\\n\"+\n     \"from bokeh.resources import INLINE\\n\"+\n     \"output_notebook(resources=INLINE)\\n\"+\n     \"</code>\\n\"+\n     \"</div>\"}};\n\n  function display_loaded() {\n    const el = document.getElementById(\"1002\");\n    if (el != null) {\n      el.textContent = \"BokehJS is loading...\";\n    }\n    if (root.Bokeh !== undefined) {\n      if (el != null) {\n        el.textContent = \"BokehJS \" + root.Bokeh.version + \" successfully loaded.\";\n      }\n    } else if (Date.now() < root._bokeh_timeout) {\n      setTimeout(display_loaded, 100)\n    }\n  }\n\n\n  function run_callbacks() {\n    try {\n      root._bokeh_onload_callbacks.forEach(function(callback) {\n        if (callback != null)\n          callback();\n      });\n    } finally {\n      delete root._bokeh_onload_callbacks\n    }\n    console.debug(\"Bokeh: all callbacks have finished\");\n  }\n\n  function load_libs(css_urls, js_urls, callback) {\n    if (css_urls == null) css_urls = [];\n    if (js_urls == null) js_urls = [];\n\n    root._bokeh_onload_callbacks.push(callback);\n    if (root._bokeh_is_loading > 0) {\n      console.debug(\"Bokeh: BokehJS is being loaded, scheduling callback at\", now());\n      return null;\n    }\n    if (js_urls == null || js_urls.length === 0) {\n      run_callbacks();\n      return null;\n    }\n    console.debug(\"Bokeh: BokehJS not loaded, scheduling load and callback at\", now());\n    root._bokeh_is_loading = css_urls.length + js_urls.length;\n\n    function on_load() {\n      root._bokeh_is_loading--;\n      if (root._bokeh_is_loading === 0) {\n        console.debug(\"Bokeh: all BokehJS libraries/stylesheets loaded\");\n        run_callbacks()\n      }\n    }\n\n    function on_error(url) {\n      console.error(\"failed to load \" + url);\n    }\n\n    for (let i = 0; i < css_urls.length; i++) {\n      const url = css_urls[i];\n      const element = document.createElement(\"link\");\n      element.onload = on_load;\n      element.onerror = on_error.bind(null, url);\n      element.rel = \"stylesheet\";\n      element.type = \"text/css\";\n      element.href = url;\n      console.debug(\"Bokeh: injecting link tag for BokehJS stylesheet: \", url);\n      document.body.appendChild(element);\n    }\n\n    for (let i = 0; i < js_urls.length; i++) {\n      const url = js_urls[i];\n      const element = document.createElement('script');\n      element.onload = on_load;\n      element.onerror = on_error.bind(null, url);\n      element.async = false;\n      element.src = url;\n      console.debug(\"Bokeh: injecting script tag for BokehJS library: \", url);\n      document.head.appendChild(element);\n    }\n  };\n\n  function inject_raw_css(css) {\n    const element = document.createElement(\"style\");\n    element.appendChild(document.createTextNode(css));\n    document.body.appendChild(element);\n  }\n\n  \n  const js_urls = [\"https://cdn.bokeh.org/bokeh/release/bokeh-2.4.2.min.js\", \"https://cdn.bokeh.org/bokeh/release/bokeh-gl-2.4.2.min.js\", \"https://cdn.bokeh.org/bokeh/release/bokeh-widgets-2.4.2.min.js\", \"https://cdn.bokeh.org/bokeh/release/bokeh-tables-2.4.2.min.js\", \"https://cdn.bokeh.org/bokeh/release/bokeh-mathjax-2.4.2.min.js\"];\n  const css_urls = [];\n  \n\n  const inline_js = [\n    function(Bokeh) {\n      Bokeh.set_log_level(\"info\");\n    },\n    function(Bokeh) {\n    \n    \n    }\n  ];\n\n  function run_inline_js() {\n    \n    if (root.Bokeh !== undefined || force === true) {\n      \n    for (let i = 0; i < inline_js.length; i++) {\n      inline_js[i].call(root, root.Bokeh);\n    }\n    if (force === true) {\n        display_loaded();\n      }} else if (Date.now() < root._bokeh_timeout) {\n      setTimeout(run_inline_js, 100);\n    } else if (!root._bokeh_failed_load) {\n      console.log(\"Bokeh: BokehJS failed to load within specified timeout.\");\n      root._bokeh_failed_load = true;\n    } else if (force !== true) {\n      const cell = $(document.getElementById(\"1002\")).parents('.cell').data().cell;\n      cell.output_area.append_execute_result(NB_LOAD_WARNING)\n    }\n\n  }\n\n  if (root._bokeh_is_loading === 0) {\n    console.debug(\"Bokeh: BokehJS loaded, going straight to plotting\");\n    run_inline_js();\n  } else {\n    load_libs(css_urls, js_urls, function() {\n      console.debug(\"Bokeh: BokehJS plotting callback run at\", now());\n      run_inline_js();\n    });\n  }\n}(window));"
     },
     "metadata": {},
     "output_type": "display_data"
    }
   ],
   "source": [
    "import pandas as pd\n",
    "%load_ext autoreload\n",
    "%autoreload 2\n",
    "\n",
    "from datetime import datetime, timedelta\n",
    "from jellyfish import utils, candles_loader\n",
    "\n",
    "client = utils.load_binance_client()\n",
    "end_dt = datetime(year=2022, month=2, day=3)\n",
    "start_dt = end_dt - timedelta(hours=400)\n",
    "pair = 'XRPUSDT'\n",
    "interval = '1h'"
   ],
   "metadata": {
    "collapsed": false,
    "pycharm": {
     "name": "#%%\n"
    }
   }
  },
  {
   "cell_type": "code",
   "execution_count": 2,
   "outputs": [
    {
     "data": {
      "text/plain": "                 date    open    high     low   close       volume  \\\n0 2021-07-31 03:14:00  0.7522  0.7535  0.7420  0.7502  12045490.00   \n1 2021-07-31 03:29:00  0.7503  0.7586  0.7488  0.7556   9861371.79   \n2 2021-07-31 03:44:00  0.7556  0.7575  0.7493  0.7519   5824656.02   \n3 2021-07-31 03:59:00  0.7518  0.7551  0.7498  0.7540   3488393.17   \n4 2021-07-31 04:14:00  0.7539  0.7555  0.7492  0.7496   4242011.99   \n\n   quoteassetvolume  numoftrades  takerbuyassetvolume  takersellassetvolume  \n0      9.008091e+06      10460.0           5905002.40          4.416919e+06  \n1      7.437928e+06       8871.0           5013093.35          3.780819e+06  \n2      4.388016e+06       5630.0           2552647.66          1.922588e+06  \n3      2.626576e+06       3650.0           1843654.95          1.388299e+06  \n4      3.190091e+06       3719.0           1893927.92          1.424374e+06  ",
      "text/html": "<div>\n<style scoped>\n    .dataframe tbody tr th:only-of-type {\n        vertical-align: middle;\n    }\n\n    .dataframe tbody tr th {\n        vertical-align: top;\n    }\n\n    .dataframe thead th {\n        text-align: right;\n    }\n</style>\n<table border=\"1\" class=\"dataframe\">\n  <thead>\n    <tr style=\"text-align: right;\">\n      <th></th>\n      <th>date</th>\n      <th>open</th>\n      <th>high</th>\n      <th>low</th>\n      <th>close</th>\n      <th>volume</th>\n      <th>quoteassetvolume</th>\n      <th>numoftrades</th>\n      <th>takerbuyassetvolume</th>\n      <th>takersellassetvolume</th>\n    </tr>\n  </thead>\n  <tbody>\n    <tr>\n      <th>0</th>\n      <td>2021-07-31 03:14:00</td>\n      <td>0.7522</td>\n      <td>0.7535</td>\n      <td>0.7420</td>\n      <td>0.7502</td>\n      <td>12045490.00</td>\n      <td>9.008091e+06</td>\n      <td>10460.0</td>\n      <td>5905002.40</td>\n      <td>4.416919e+06</td>\n    </tr>\n    <tr>\n      <th>1</th>\n      <td>2021-07-31 03:29:00</td>\n      <td>0.7503</td>\n      <td>0.7586</td>\n      <td>0.7488</td>\n      <td>0.7556</td>\n      <td>9861371.79</td>\n      <td>7.437928e+06</td>\n      <td>8871.0</td>\n      <td>5013093.35</td>\n      <td>3.780819e+06</td>\n    </tr>\n    <tr>\n      <th>2</th>\n      <td>2021-07-31 03:44:00</td>\n      <td>0.7556</td>\n      <td>0.7575</td>\n      <td>0.7493</td>\n      <td>0.7519</td>\n      <td>5824656.02</td>\n      <td>4.388016e+06</td>\n      <td>5630.0</td>\n      <td>2552647.66</td>\n      <td>1.922588e+06</td>\n    </tr>\n    <tr>\n      <th>3</th>\n      <td>2021-07-31 03:59:00</td>\n      <td>0.7518</td>\n      <td>0.7551</td>\n      <td>0.7498</td>\n      <td>0.7540</td>\n      <td>3488393.17</td>\n      <td>2.626576e+06</td>\n      <td>3650.0</td>\n      <td>1843654.95</td>\n      <td>1.388299e+06</td>\n    </tr>\n    <tr>\n      <th>4</th>\n      <td>2021-07-31 04:14:00</td>\n      <td>0.7539</td>\n      <td>0.7555</td>\n      <td>0.7492</td>\n      <td>0.7496</td>\n      <td>4242011.99</td>\n      <td>3.190091e+06</td>\n      <td>3719.0</td>\n      <td>1893927.92</td>\n      <td>1.424374e+06</td>\n    </tr>\n  </tbody>\n</table>\n</div>"
     },
     "execution_count": 2,
     "metadata": {},
     "output_type": "execute_result"
    }
   ],
   "source": [
    "from jellyfish import CANDLES_HISTORY_PATH\n",
    "import pandas as pd\n",
    "df = pd.read_csv(next(CANDLES_HISTORY_PATH.iterdir()))\n",
    "df = candles_loader.read_candles_frame(next(CANDLES_HISTORY_PATH.iterdir())).reset_index()\n",
    "df.columns = [i.lower() for i in df.columns]\n",
    "df.head()"
   ],
   "metadata": {
    "collapsed": false,
    "pycharm": {
     "name": "#%%\n"
    }
   }
  },
  {
   "cell_type": "code",
   "execution_count": 5,
   "outputs": [
    {
     "name": "stderr",
     "output_type": "stream",
     "text": [
      "/home/tarasnovokhatskiy/jellyfish/jellyfish/utils.py:40: UserWarning: Data index is not datetime. Assuming simple periods, but `pd.DateTimeIndex` is advised.\n",
      "  backtest = Backtest(ohlc, strategy=DummyStrategy, cash=10_000, commission=.002)\n"
     ]
    },
    {
     "data": {
      "text/plain": "                 Date  Open  High   Low Close  Uptrend\n0 2021-07-31 03:14:00  0.74  0.75  0.74  0.75     True\n1 2021-08-01 03:59:00  0.75  0.76  0.75  0.76     True\n2 2021-08-01 06:44:00  0.76  0.77  0.76  0.77     True\n3 2021-08-01 19:29:00  0.76  0.76  0.75  0.75    False\n4 2021-08-02 02:29:00  0.75  0.75  0.74  0.74    False",
      "text/html": "<div>\n<style scoped>\n    .dataframe tbody tr th:only-of-type {\n        vertical-align: middle;\n    }\n\n    .dataframe tbody tr th {\n        vertical-align: top;\n    }\n\n    .dataframe thead th {\n        text-align: right;\n    }\n</style>\n<table border=\"1\" class=\"dataframe\">\n  <thead>\n    <tr style=\"text-align: right;\">\n      <th></th>\n      <th>Date</th>\n      <th>Open</th>\n      <th>High</th>\n      <th>Low</th>\n      <th>Close</th>\n      <th>Uptrend</th>\n    </tr>\n  </thead>\n  <tbody>\n    <tr>\n      <th>0</th>\n      <td>2021-07-31 03:14:00</td>\n      <td>0.74</td>\n      <td>0.75</td>\n      <td>0.74</td>\n      <td>0.75</td>\n      <td>True</td>\n    </tr>\n    <tr>\n      <th>1</th>\n      <td>2021-08-01 03:59:00</td>\n      <td>0.75</td>\n      <td>0.76</td>\n      <td>0.75</td>\n      <td>0.76</td>\n      <td>True</td>\n    </tr>\n    <tr>\n      <th>2</th>\n      <td>2021-08-01 06:44:00</td>\n      <td>0.76</td>\n      <td>0.77</td>\n      <td>0.76</td>\n      <td>0.77</td>\n      <td>True</td>\n    </tr>\n    <tr>\n      <th>3</th>\n      <td>2021-08-01 19:29:00</td>\n      <td>0.76</td>\n      <td>0.76</td>\n      <td>0.75</td>\n      <td>0.75</td>\n      <td>False</td>\n    </tr>\n    <tr>\n      <th>4</th>\n      <td>2021-08-02 02:29:00</td>\n      <td>0.75</td>\n      <td>0.75</td>\n      <td>0.74</td>\n      <td>0.74</td>\n      <td>False</td>\n    </tr>\n  </tbody>\n</table>\n</div>"
     },
     "execution_count": 5,
     "metadata": {},
     "output_type": "execute_result"
    }
   ],
   "source": [
    "from stocktrends import indicators\n",
    "renko = indicators.Renko(df)\n",
    "renko.brick_size = 1e-2\n",
    "renko.chart_type = indicators.Renko.PERIOD_CLOSE\n",
    "data = renko.get_ohlc_data()\n",
    "\n",
    "data.columns = [i.capitalize() for i in data.columns]\n",
    "utils.plot_ohlc(data)\n",
    "\n",
    "data.head()"
   ],
   "metadata": {
    "collapsed": false,
    "pycharm": {
     "name": "#%%\n"
    }
   }
  },
  {
   "cell_type": "code",
   "execution_count": 6,
   "outputs": [
    {
     "data": {
      "text/plain": "                  Date Close\n0  2021-07-31 03:14:00  0.75\n1  2021-08-01 03:59:00  0.76\n2  2021-08-01 06:44:00  0.77\n3  2021-08-01 19:29:00  0.75\n4  2021-08-02 02:29:00  0.74\n5  2021-08-02 02:29:00  0.73\n6  2021-08-02 02:29:00  0.72\n7  2021-08-02 09:44:00  0.74\n8  2021-08-02 09:44:00  0.75\n9  2021-08-02 09:44:00  0.76\n10 2021-08-02 09:44:00  0.77\n11 2021-08-02 11:29:00  0.75\n12 2021-08-02 23:14:00  0.74\n13 2021-08-03 04:29:00  0.73\n14 2021-08-03 07:59:00  0.72\n15 2021-08-03 15:29:00  0.71\n16 2021-08-04 12:44:00   0.7\n17 2021-08-04 16:29:00  0.72\n18 2021-08-04 19:44:00  0.73\n19 2021-08-05 12:59:00  0.71\n20 2021-08-05 20:44:00  0.73\n21 2021-08-06 18:59:00  0.74\n22 2021-08-06 20:44:00  0.75\n23 2021-08-07 05:59:00  0.76\n24 2021-08-07 12:29:00  0.77\n25 2021-08-07 12:29:00  0.78\n26 2021-08-07 12:44:00  0.79\n27 2021-08-07 18:29:00   0.8\n28 2021-08-07 18:29:00  0.81\n29 2021-08-07 19:14:00  0.79\n30 2021-08-08 00:29:00  0.81\n31 2021-08-08 03:14:00  0.82\n32 2021-08-08 13:44:00   0.8\n33 2021-08-08 17:44:00  0.79\n34 2021-08-08 19:59:00  0.78\n35 2021-08-09 03:14:00  0.77\n36 2021-08-09 07:44:00  0.79\n37 2021-08-09 12:14:00   0.8\n38 2021-08-09 13:14:00  0.81\n39 2021-08-09 14:59:00  0.82\n40 2021-08-10 15:29:00  0.83\n41 2021-08-10 15:29:00  0.84\n42 2021-08-10 15:44:00  0.85\n43 2021-08-10 17:44:00  0.83\n44 2021-08-10 19:29:00  0.82\n45 2021-08-10 23:44:00  0.84\n46 2021-08-11 00:44:00  0.85\n47 2021-08-11 01:14:00  0.86",
      "text/html": "<div>\n<style scoped>\n    .dataframe tbody tr th:only-of-type {\n        vertical-align: middle;\n    }\n\n    .dataframe tbody tr th {\n        vertical-align: top;\n    }\n\n    .dataframe thead th {\n        text-align: right;\n    }\n</style>\n<table border=\"1\" class=\"dataframe\">\n  <thead>\n    <tr style=\"text-align: right;\">\n      <th></th>\n      <th>Date</th>\n      <th>Close</th>\n    </tr>\n  </thead>\n  <tbody>\n    <tr>\n      <th>0</th>\n      <td>2021-07-31 03:14:00</td>\n      <td>0.75</td>\n    </tr>\n    <tr>\n      <th>1</th>\n      <td>2021-08-01 03:59:00</td>\n      <td>0.76</td>\n    </tr>\n    <tr>\n      <th>2</th>\n      <td>2021-08-01 06:44:00</td>\n      <td>0.77</td>\n    </tr>\n    <tr>\n      <th>3</th>\n      <td>2021-08-01 19:29:00</td>\n      <td>0.75</td>\n    </tr>\n    <tr>\n      <th>4</th>\n      <td>2021-08-02 02:29:00</td>\n      <td>0.74</td>\n    </tr>\n    <tr>\n      <th>5</th>\n      <td>2021-08-02 02:29:00</td>\n      <td>0.73</td>\n    </tr>\n    <tr>\n      <th>6</th>\n      <td>2021-08-02 02:29:00</td>\n      <td>0.72</td>\n    </tr>\n    <tr>\n      <th>7</th>\n      <td>2021-08-02 09:44:00</td>\n      <td>0.74</td>\n    </tr>\n    <tr>\n      <th>8</th>\n      <td>2021-08-02 09:44:00</td>\n      <td>0.75</td>\n    </tr>\n    <tr>\n      <th>9</th>\n      <td>2021-08-02 09:44:00</td>\n      <td>0.76</td>\n    </tr>\n    <tr>\n      <th>10</th>\n      <td>2021-08-02 09:44:00</td>\n      <td>0.77</td>\n    </tr>\n    <tr>\n      <th>11</th>\n      <td>2021-08-02 11:29:00</td>\n      <td>0.75</td>\n    </tr>\n    <tr>\n      <th>12</th>\n      <td>2021-08-02 23:14:00</td>\n      <td>0.74</td>\n    </tr>\n    <tr>\n      <th>13</th>\n      <td>2021-08-03 04:29:00</td>\n      <td>0.73</td>\n    </tr>\n    <tr>\n      <th>14</th>\n      <td>2021-08-03 07:59:00</td>\n      <td>0.72</td>\n    </tr>\n    <tr>\n      <th>15</th>\n      <td>2021-08-03 15:29:00</td>\n      <td>0.71</td>\n    </tr>\n    <tr>\n      <th>16</th>\n      <td>2021-08-04 12:44:00</td>\n      <td>0.7</td>\n    </tr>\n    <tr>\n      <th>17</th>\n      <td>2021-08-04 16:29:00</td>\n      <td>0.72</td>\n    </tr>\n    <tr>\n      <th>18</th>\n      <td>2021-08-04 19:44:00</td>\n      <td>0.73</td>\n    </tr>\n    <tr>\n      <th>19</th>\n      <td>2021-08-05 12:59:00</td>\n      <td>0.71</td>\n    </tr>\n    <tr>\n      <th>20</th>\n      <td>2021-08-05 20:44:00</td>\n      <td>0.73</td>\n    </tr>\n    <tr>\n      <th>21</th>\n      <td>2021-08-06 18:59:00</td>\n      <td>0.74</td>\n    </tr>\n    <tr>\n      <th>22</th>\n      <td>2021-08-06 20:44:00</td>\n      <td>0.75</td>\n    </tr>\n    <tr>\n      <th>23</th>\n      <td>2021-08-07 05:59:00</td>\n      <td>0.76</td>\n    </tr>\n    <tr>\n      <th>24</th>\n      <td>2021-08-07 12:29:00</td>\n      <td>0.77</td>\n    </tr>\n    <tr>\n      <th>25</th>\n      <td>2021-08-07 12:29:00</td>\n      <td>0.78</td>\n    </tr>\n    <tr>\n      <th>26</th>\n      <td>2021-08-07 12:44:00</td>\n      <td>0.79</td>\n    </tr>\n    <tr>\n      <th>27</th>\n      <td>2021-08-07 18:29:00</td>\n      <td>0.8</td>\n    </tr>\n    <tr>\n      <th>28</th>\n      <td>2021-08-07 18:29:00</td>\n      <td>0.81</td>\n    </tr>\n    <tr>\n      <th>29</th>\n      <td>2021-08-07 19:14:00</td>\n      <td>0.79</td>\n    </tr>\n    <tr>\n      <th>30</th>\n      <td>2021-08-08 00:29:00</td>\n      <td>0.81</td>\n    </tr>\n    <tr>\n      <th>31</th>\n      <td>2021-08-08 03:14:00</td>\n      <td>0.82</td>\n    </tr>\n    <tr>\n      <th>32</th>\n      <td>2021-08-08 13:44:00</td>\n      <td>0.8</td>\n    </tr>\n    <tr>\n      <th>33</th>\n      <td>2021-08-08 17:44:00</td>\n      <td>0.79</td>\n    </tr>\n    <tr>\n      <th>34</th>\n      <td>2021-08-08 19:59:00</td>\n      <td>0.78</td>\n    </tr>\n    <tr>\n      <th>35</th>\n      <td>2021-08-09 03:14:00</td>\n      <td>0.77</td>\n    </tr>\n    <tr>\n      <th>36</th>\n      <td>2021-08-09 07:44:00</td>\n      <td>0.79</td>\n    </tr>\n    <tr>\n      <th>37</th>\n      <td>2021-08-09 12:14:00</td>\n      <td>0.8</td>\n    </tr>\n    <tr>\n      <th>38</th>\n      <td>2021-08-09 13:14:00</td>\n      <td>0.81</td>\n    </tr>\n    <tr>\n      <th>39</th>\n      <td>2021-08-09 14:59:00</td>\n      <td>0.82</td>\n    </tr>\n    <tr>\n      <th>40</th>\n      <td>2021-08-10 15:29:00</td>\n      <td>0.83</td>\n    </tr>\n    <tr>\n      <th>41</th>\n      <td>2021-08-10 15:29:00</td>\n      <td>0.84</td>\n    </tr>\n    <tr>\n      <th>42</th>\n      <td>2021-08-10 15:44:00</td>\n      <td>0.85</td>\n    </tr>\n    <tr>\n      <th>43</th>\n      <td>2021-08-10 17:44:00</td>\n      <td>0.83</td>\n    </tr>\n    <tr>\n      <th>44</th>\n      <td>2021-08-10 19:29:00</td>\n      <td>0.82</td>\n    </tr>\n    <tr>\n      <th>45</th>\n      <td>2021-08-10 23:44:00</td>\n      <td>0.84</td>\n    </tr>\n    <tr>\n      <th>46</th>\n      <td>2021-08-11 00:44:00</td>\n      <td>0.85</td>\n    </tr>\n    <tr>\n      <th>47</th>\n      <td>2021-08-11 01:14:00</td>\n      <td>0.86</td>\n    </tr>\n  </tbody>\n</table>\n</div>"
     },
     "execution_count": 6,
     "metadata": {},
     "output_type": "execute_result"
    }
   ],
   "source": [
    "data[['Date', 'Close']]"
   ],
   "metadata": {
    "collapsed": false,
    "pycharm": {
     "name": "#%%\n"
    }
   }
  },
  {
   "cell_type": "code",
   "execution_count": null,
   "outputs": [],
   "source": [],
   "metadata": {
    "collapsed": false,
    "pycharm": {
     "name": "#%%\n",
     "is_executing": true
    }
   }
  },
  {
   "cell_type": "code",
   "execution_count": null,
   "outputs": [],
   "source": [],
   "metadata": {
    "collapsed": false,
    "pycharm": {
     "name": "#%%\n",
     "is_executing": true
    }
   }
  },
  {
   "cell_type": "code",
   "execution_count": null,
   "outputs": [],
   "source": [],
   "metadata": {
    "collapsed": false,
    "pycharm": {
     "name": "#%%\n"
    }
   }
  }
 ],
 "metadata": {
  "kernelspec": {
   "display_name": "Python 3",
   "language": "python",
   "name": "python3"
  },
  "language_info": {
   "codemirror_mode": {
    "name": "ipython",
    "version": 2
   },
   "file_extension": ".py",
   "mimetype": "text/x-python",
   "name": "python",
   "nbconvert_exporter": "python",
   "pygments_lexer": "ipython2",
   "version": "2.7.6"
  }
 },
 "nbformat": 4,
 "nbformat_minor": 0
}